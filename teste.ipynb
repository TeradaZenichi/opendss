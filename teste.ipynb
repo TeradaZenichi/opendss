{
 "cells": [
  {
   "cell_type": "markdown",
   "metadata": {},
   "source": [
    "# Importando Bibliotecas e módulos necessários"
   ]
  },
  {
   "cell_type": "code",
   "execution_count": 1,
   "metadata": {},
   "outputs": [],
   "source": [
    "import os\n",
    "import sys\n",
    "sys.path.append(os.path.abspath(os.path.join(os.getcwd(), 'src')))\n",
    "import pandas as pd\n",
    "import numpy as np\n",
    "import matplotlib.pyplot as plt\n",
    "from dss import dss\n",
    "from powerflow.bus import bus_dictionary\n",
    "from powerflow.batery import distbess_dictionary\n",
    "from powerflow.generators import distgen_dictionary,add_gd\n",
    "from powerflow.get_powers import get_dist_power\n",
    "from powerflow.load import add_LoadToBus,add_load\n",
    "from powerflow.text_comands import set_frequency,new_circuit,line_geometry,add_line,add_infos\n"
   ]
  },
  {
   "cell_type": "markdown",
   "metadata": {},
   "source": [
    "# Diretórios dos dados\n"
   ]
  },
  {
   "cell_type": "code",
   "execution_count": 2,
   "metadata": {},
   "outputs": [],
   "source": [
    "# Diretório de datasets\n",
    "dir_datasets = 'C:\\\\Users\\\\joao9\\\\GitHub\\\\opendss\\\\datasets\\\\'\n",
    "\n",
    "#Diretório de arquivos .dss\n",
    "dir_dss = dir_datasets + 'arquivos_dss\\\\'\n",
    "\n",
    "# Diretório de arquivos de geração PV\n",
    "dir_pv = 'datasets\\\\generation_profiles\\\\'\n",
    "\n",
    "# Diretório de arquivos de cargas\n",
    "dir_cargas = 'datasets\\\\load_profiles\\\\'\n"
   ]
  },
  {
   "cell_type": "markdown",
   "metadata": {},
   "source": [
    "# Definições iniciais do circuito"
   ]
  },
  {
   "cell_type": "code",
   "execution_count": 3,
   "metadata": {},
   "outputs": [],
   "source": [
    "\n",
    "Text = dss.Text\n",
    "Circuit = dss.ActiveCircuit\n",
    "Solution = dss.ActiveCircuit.Solution\n",
    "\n",
    "# Definições da MatPlotLib\n",
    "plt.close('all')\n",
    "plt.style.use('ggplot')\n",
    "plt.rcParams[\"figure.figsize\"] = (8,4)\n",
    "plt.rcParams[\"figure.dpi\"] = 100\n",
    "plt.rcParams['font.family'] = 'DejaVu Sans'\n",
    "plt.rcParams['font.sans-serif'] = ['cmr10']\n",
    "plt.rcParams['axes.unicode_minus'] = False\n",
    "\n",
    "#Potências máximas\n",
    "PowerLoad=4\n",
    "PowerPV=6 #Potência total dos módulos\n",
    "\n",
    "# Definições do BESS\n",
    "Pmin=0.320\n",
    "BESS_P_MAX = 5\n",
    "BESS_C_MAX = 12\n",
    "SOC_MIN = 0.1 # 10%\n",
    "SOC_MAX = 0.9 # 90%\n",
    "BESS_E_MIN = BESS_C_MAX * SOC_MIN\n",
    "BESS_E_MAX = BESS_C_MAX * SOC_MAX\n",
    "\n",
    "# Definições do intervalo de simulação\n",
    "# nconsumidores = len(os.listdir(dir_cargas))\n",
    "nconsumidores = 3\n",
    "nbarramentos = 4\n",
    "horas = 24 #hours\n",
    "intervalo = 30 #min"
   ]
  },
  {
   "cell_type": "markdown",
   "metadata": {},
   "source": [
    "# Criação do modelo base do arquivo.dss"
   ]
  },
  {
   "cell_type": "code",
   "execution_count": 4,
   "metadata": {},
   "outputs": [],
   "source": [
    "with open(dir_dss + 'ModelagemTeste.dss', 'w') as file:\n",
    "    file.write(set_frequency(60) + '\\n')\n",
    "    file.write(new_circuit('ModelagemTeste', str(1).zfill(3), 0.22) + '\\n')\n",
    "    file.write(line_geometry(0.52,0.63,'km',3.338,3,3,[-120.00,0.00,60.00],[1000.00,1000.00,1000.00])+ '\\n')\n",
    "    for i in range(1,nbarramentos,1):\n",
    "        file.write(add_line(i,str(i).zfill(3),str(i+1).zfill(3),25,'m',3)+ '\\n')\n",
    "    \n",
    "    file.write(add_infos())\n",
    "\n",
    "opendssmodel = dir_dss + 'ModelagemTeste.dss'"
   ]
  },
  {
   "cell_type": "markdown",
   "metadata": {},
   "source": [
    "# Criação dos dicionários que irão armazenar as inforamções das cargas, geraçãoPV e bateria"
   ]
  },
  {
   "cell_type": "code",
   "execution_count": 5,
   "metadata": {},
   "outputs": [
    {
     "data": {
      "text/plain": [
       "{'bus_001': {'MAC003982': {'phases': 2,\n",
       "   'voltage': 0.22,\n",
       "   'power': 1,\n",
       "   'profile':                           datetime  Ppower    Qpower\n",
       "   0      2012-07-06 12:00:00.0000000   0.194  0.000194\n",
       "   1      2012-07-06 12:30:00.0000000   0.159  0.000159\n",
       "   2      2012-07-06 13:00:00.0000000   0.161  0.000161\n",
       "   3      2012-07-06 13:30:00.0000000   0.188  0.000188\n",
       "   4      2012-07-06 14:00:00.0000000   0.144  0.000144\n",
       "   ...                            ...     ...       ...\n",
       "   28818  2014-02-27 22:30:00.0000000   0.123  0.000123\n",
       "   28819  2014-02-27 23:00:00.0000000   0.133  0.000133\n",
       "   28820  2014-02-27 23:30:00.0000000   0.146  0.000146\n",
       "   28821  2014-02-28 00:00:00.0000000   0.193  0.000193\n",
       "   28822  2014-02-28 00:00:00.0000000   0.193  0.000193\n",
       "   \n",
       "   [28823 rows x 3 columns]}},\n",
       " 'bus_002': {'MAC003983': {'phases': 2,\n",
       "   'voltage': 0.22,\n",
       "   'power': 1,\n",
       "   'profile':                           datetime  Ppower    Qpower\n",
       "   0      2012-07-06 12:00:00.0000000   0.098  0.000098\n",
       "   1      2012-07-06 12:30:00.0000000   0.086  0.000086\n",
       "   2      2012-07-06 13:00:00.0000000   0.054  0.000054\n",
       "   3      2012-07-06 13:30:00.0000000   0.044  0.000044\n",
       "   4      2012-07-06 14:00:00.0000000   0.017  0.000017\n",
       "   ...                            ...     ...       ...\n",
       "   28885  2014-02-27 22:30:00.0000000   0.352  0.000352\n",
       "   28886  2014-02-27 23:00:00.0000000   0.465  0.000465\n",
       "   28887  2014-02-27 23:30:00.0000000   0.403  0.000403\n",
       "   28888  2014-02-28 00:00:00.0000000   0.369  0.000369\n",
       "   28889  2014-02-28 00:00:00.0000000   0.369  0.000369\n",
       "   \n",
       "   [28890 rows x 3 columns]}},\n",
       " 'bus_003': {'MAC003996': {'phases': 2,\n",
       "   'voltage': 0.22,\n",
       "   'power': 1,\n",
       "   'profile':                           datetime  Ppower    Qpower\n",
       "   0      2012-07-06 12:00:00.0000000   0.033  0.000033\n",
       "   1      2012-07-06 12:30:00.0000000   0.033  0.000033\n",
       "   2      2012-07-06 13:00:00.0000000   0.030  0.000030\n",
       "   3      2012-07-06 13:30:00.0000000   0.035  0.000035\n",
       "   4      2012-07-06 14:00:00.0000000   0.029  0.000029\n",
       "   ...                            ...     ...       ...\n",
       "   28886  2014-02-27 22:30:00.0000000   0.016  0.000016\n",
       "   28887  2014-02-27 23:00:00.0000000   0.039  0.000039\n",
       "   28888  2014-02-27 23:30:00.0000000   0.051  0.000051\n",
       "   28889  2014-02-28 00:00:00.0000000   0.042  0.000042\n",
       "   28890  2014-02-28 00:00:00.0000000   0.042  0.000042\n",
       "   \n",
       "   [28891 rows x 3 columns]}},\n",
       " 'bus_004': {}}"
      ]
     },
     "metadata": {},
     "output_type": "display_data"
    }
   ],
   "source": [
    "profiles = os.listdir(dir_cargas)\n",
    "\n",
    "buses = bus_dictionary(nbarramentos)\n",
    "for i in range(3):\n",
    "    bus = 'bus_'+str(i+1).zfill(3)\n",
    "    name = profiles[i].replace('.csv','')\n",
    "    add_LoadToBus(buses,bus,name,2,0.22,1,dir_cargas+profiles[i])\n",
    "\n",
    "display(buses)"
   ]
  },
  {
   "cell_type": "markdown",
   "metadata": {},
   "source": [
    "# Garantindo que o Opendss esteja limpo"
   ]
  },
  {
   "cell_type": "code",
   "execution_count": 6,
   "metadata": {},
   "outputs": [
    {
     "name": "stdout",
     "output_type": "stream",
     "text": [
      "['bus_001', 'bus_002', 'bus_003', 'bus_004']\n"
     ]
    }
   ],
   "source": [
    "dss.ClearAll()\n",
    "dss.Start(0)\n",
    "Text.Command = \"Clear\"\n",
    "Text.Command = f\"Compile {opendssmodel}\"\n",
    "\n",
    "print(Circuit.AllBusNames)"
   ]
  },
  {
   "cell_type": "markdown",
   "metadata": {},
   "source": [
    "# Fluxo de carga"
   ]
  },
  {
   "cell_type": "code",
   "execution_count": 9,
   "metadata": {},
   "outputs": [
    {
     "name": "stderr",
     "output_type": "stream",
     "text": [
      "C:\\Users\\joao9\\AppData\\Local\\Temp\\ipykernel_21532\\3270705722.py:6: FutureWarning: Non-integer 'periods' in pd.date_range, pd.timedelta_range, pd.period_range, and pd.interval_range are deprecated and will raise in a future version.\n",
      "  range_time = pd.date_range('2012-07-06 12:00:00', periods=horas*60/intervalo, freq=str(intervalo)+'T')\n",
      "C:\\Users\\joao9\\AppData\\Local\\Temp\\ipykernel_21532\\3270705722.py:6: FutureWarning: 'T' is deprecated and will be removed in a future version, please use 'min' instead.\n",
      "  range_time = pd.date_range('2012-07-06 12:00:00', periods=horas*60/intervalo, freq=str(intervalo)+'T')\n",
      "C:\\Users\\joao9\\AppData\\Local\\Temp\\ipykernel_21532\\3270705722.py:48: FutureWarning: The behavior of DataFrame concatenation with empty or all-NA entries is deprecated. In a future version, this will no longer exclude empty or all-NA columns when determining the result dtypes. To retain the old behavior, exclude the relevant entries before the concat operation.\n",
      "  bus_power = pd.concat([bus_power, pd.DataFrame([[time, bus, voltages[0], p_total, q_total]], columns=column_power)], ignore_index=True)\n"
     ]
    }
   ],
   "source": [
    "column_power = ['datetime', 'bus','V', 'P', 'Q']\n",
    "bus_power = pd.DataFrame(columns = column_power)\n",
    "\n",
    "\n",
    "\n",
    "range_time = pd.date_range('2012-07-06 12:00:00', periods=horas*60/intervalo, freq=str(intervalo)+'T')\n",
    "for time in range_time:\n",
    "  new_command = ''\n",
    "\n",
    "  #Acessa os barramentos do dicionário\n",
    "  for bus in buses.keys():\n",
    "    loads = buses[bus].keys()\n",
    "    for load in loads:\n",
    "      carga = buses[bus][load]\n",
    "      new_command = new_command + '\\n' + add_load(time,load,bus, carga['phases'], \n",
    "      carga['voltage'], carga['power'], carga['profile'])\n",
    "\n",
    "  # for gen in distgen:\n",
    "  #   new_command = new_command + '\\n' + add_gd(time, gen, distgen[gen]['bus'], distgen[gen]['phases'], \n",
    "  #   distgen[gen]['conn'], distgen[gen]['voltage'], distgen[gen]['power'], distgen[gen]['profile'])\n",
    "\n",
    "\n",
    "\n",
    "  dss.ClearAll()\n",
    "  dss.Start(0)\n",
    "  dss(\"Clear\")\n",
    "  dss(f\"Compile {opendssmodel}\")\n",
    "  dss(new_command)\n",
    "  dss(\"Set VoltageBases = [.22]\")\n",
    "  dss(\"CalcVoltageBases\")\n",
    "  dss(\"Set maxiterations = 500\")\n",
    "  dss('set mode = snap')\n",
    "  dss(\"Solve\")\n",
    "\n",
    "  for bus in buses.keys():\n",
    "    Circuit.SetActiveBus(bus)\n",
    "    voltages = Circuit.ActiveBus.VMagAngle\n",
    "\n",
    "    # Potências associadas ao barramento (P e Q)\n",
    "    p_total, q_total = 0, 0\n",
    "    conectado_bus = Circuit.ActiveBus.AllPDEatBus\n",
    "    for elem in conectado_bus:\n",
    "      Circuit.SetActiveElement(elem)\n",
    "      powers = Circuit.PDElements.AllPowers  # Lista com potências [P1, Q1, P2, Q2, ...]\n",
    "      p_total += sum(powers[::2])  # Somar potências ativas (P)\n",
    "      q_total += sum(powers[1::2])  # Somar potências reativas (Q)\n",
    "\n",
    "    bus_power = pd.concat([bus_power, pd.DataFrame([[time, bus, voltages[0], p_total, q_total]], columns=column_power)], ignore_index=True)\n",
    "\n",
    "  "
   ]
  }
 ],
 "metadata": {
  "kernelspec": {
   "display_name": "goes",
   "language": "python",
   "name": "python3"
  },
  "language_info": {
   "codemirror_mode": {
    "name": "ipython",
    "version": 3
   },
   "file_extension": ".py",
   "mimetype": "text/x-python",
   "name": "python",
   "nbconvert_exporter": "python",
   "pygments_lexer": "ipython3",
   "version": "3.12.5"
  }
 },
 "nbformat": 4,
 "nbformat_minor": 2
}
