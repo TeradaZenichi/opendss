{
 "cells": [
  {
   "cell_type": "markdown",
   "metadata": {},
   "source": [
    "# Importando Bibliotecas e módulos necessários"
   ]
  },
  {
   "cell_type": "code",
   "execution_count": 1,
   "metadata": {},
   "outputs": [],
   "source": [
    "import os\n",
    "import sys\n",
    "sys.path.append(os.path.abspath(os.path.join(os.getcwd(), 'src')))\n",
    "import pandas as pd\n",
    "import numpy as np\n",
    "import matplotlib.pyplot as plt\n",
    "import opendssdirect as dss\n",
    "from powerflow.bus import bus_dictionary\n",
    "from powerflow.batery import distbess_dictionary\n",
    "from powerflow.generators import distgen_dictionary,add_gd\n",
    "from powerflow.get_powers import get_dist_power,get_bus_power\n",
    "from powerflow.load import add_LoadToBus,add_load\n",
    "from powerflow.text_comands import set_frequency,new_circuit,line_geometry,add_line,add_infos\n"
   ]
  },
  {
   "cell_type": "markdown",
   "metadata": {},
   "source": [
    "# Diretórios dos dados\n"
   ]
  },
  {
   "cell_type": "code",
   "execution_count": 2,
   "metadata": {},
   "outputs": [],
   "source": [
    "# Diretório de datasets\n",
    "dir_datasets = 'C:\\\\Users\\\\joao9\\\\GitHub\\\\opendss\\\\datasets\\\\'\n",
    "\n",
    "#Diretório de arquivos .dss\n",
    "dir_dss = dir_datasets + 'arquivos_dss\\\\'\n",
    "\n",
    "# Diretório de arquivos de geração PV\n",
    "dir_pv = 'datasets\\\\generation_profiles\\\\'\n",
    "\n",
    "# Diretório de arquivos de cargas\n",
    "dir_cargas = 'datasets\\\\load_profiles\\\\'\n"
   ]
  },
  {
   "cell_type": "markdown",
   "metadata": {},
   "source": [
    "# Definições iniciais do circuito"
   ]
  },
  {
   "cell_type": "code",
   "execution_count": 3,
   "metadata": {},
   "outputs": [],
   "source": [
    "\n",
    "Text = dss.Text\n",
    "Circuit = dss.Circuit\n",
    "Solution = dss.Solution\n",
    "\n",
    "# Definições da MatPlotLib\n",
    "plt.close('all')\n",
    "plt.style.use('ggplot')\n",
    "plt.rcParams[\"figure.figsize\"] = (8,4)\n",
    "plt.rcParams[\"figure.dpi\"] = 100\n",
    "plt.rcParams['font.family'] = 'DejaVu Sans'\n",
    "plt.rcParams['font.sans-serif'] = ['cmr10']\n",
    "plt.rcParams['axes.unicode_minus'] = False\n",
    "\n",
    "#Potências máximas\n",
    "PowerLoad=4\n",
    "PowerPV=6 #Potência total dos módulos\n",
    "\n",
    "# Definições do BESS\n",
    "Pmin=0.320\n",
    "BESS_P_MAX = 5\n",
    "BESS_C_MAX = 12\n",
    "SOC_MIN = 0.1 # 10%\n",
    "SOC_MAX = 0.9 # 90%\n",
    "BESS_E_MIN = BESS_C_MAX * SOC_MIN\n",
    "BESS_E_MAX = BESS_C_MAX * SOC_MAX\n",
    "\n",
    "# Definições do intervalo de simulação\n",
    "# nconsumidores = len(os.listdir(dir_cargas))\n",
    "nconsumidores = 3\n",
    "nbarramentos = 4\n",
    "horas = 24 #hours\n",
    "intervalo = 30 #min"
   ]
  },
  {
   "cell_type": "markdown",
   "metadata": {},
   "source": [
    "# Criação do modelo base do arquivo.dss"
   ]
  },
  {
   "cell_type": "code",
   "execution_count": 4,
   "metadata": {},
   "outputs": [],
   "source": [
    "with open(dir_dss + 'ModelagemTeste.dss', 'w') as file:\n",
    "    file.write(set_frequency(60) + '\\n')\n",
    "    file.write(new_circuit('ModelagemTeste', str(1).zfill(3), 0.22) + '\\n')\n",
    "    file.write(line_geometry(0.52,0.63,'km',3.338,3,3,[-120.00,0.00,60.00],[1000.00,1000.00,1000.00])+ '\\n')\n",
    "    for i in range(1,nbarramentos,1):\n",
    "        file.write(add_line(i,str(i).zfill(3),str(i+1).zfill(3),25,'m',3)+ '\\n')\n",
    "    \n",
    "    file.write(add_infos())\n",
    "\n",
    "opendssmodel = dir_dss + 'ModelagemTeste.dss'"
   ]
  },
  {
   "cell_type": "markdown",
   "metadata": {},
   "source": [
    "# Criação dos dicionários que irão armazenar as inforamções das cargas, geraçãoPV e bateria"
   ]
  },
  {
   "cell_type": "code",
   "execution_count": 5,
   "metadata": {},
   "outputs": [
    {
     "data": {
      "text/plain": [
       "{'bus_001': {'MAC003982': {'phases': 2,\n",
       "   'voltage': 0.22,\n",
       "   'power': 1000,\n",
       "   'profile':                           datetime  Ppower    Qpower\n",
       "   0      2012-07-06 12:00:00.0000000   0.194  0.000194\n",
       "   1      2012-07-06 12:30:00.0000000   0.159  0.000159\n",
       "   2      2012-07-06 13:00:00.0000000   0.161  0.000161\n",
       "   3      2012-07-06 13:30:00.0000000   0.188  0.000188\n",
       "   4      2012-07-06 14:00:00.0000000   0.144  0.000144\n",
       "   ...                            ...     ...       ...\n",
       "   28818  2014-02-27 22:30:00.0000000   0.123  0.000123\n",
       "   28819  2014-02-27 23:00:00.0000000   0.133  0.000133\n",
       "   28820  2014-02-27 23:30:00.0000000   0.146  0.000146\n",
       "   28821  2014-02-28 00:00:00.0000000   0.193  0.000193\n",
       "   28822  2014-02-28 00:00:00.0000000   0.193  0.000193\n",
       "   \n",
       "   [28823 rows x 3 columns]}},\n",
       " 'bus_002': {'MAC003983': {'phases': 2,\n",
       "   'voltage': 0.22,\n",
       "   'power': 1000,\n",
       "   'profile':                           datetime  Ppower    Qpower\n",
       "   0      2012-07-06 12:00:00.0000000   0.098  0.000098\n",
       "   1      2012-07-06 12:30:00.0000000   0.086  0.000086\n",
       "   2      2012-07-06 13:00:00.0000000   0.054  0.000054\n",
       "   3      2012-07-06 13:30:00.0000000   0.044  0.000044\n",
       "   4      2012-07-06 14:00:00.0000000   0.017  0.000017\n",
       "   ...                            ...     ...       ...\n",
       "   28885  2014-02-27 22:30:00.0000000   0.352  0.000352\n",
       "   28886  2014-02-27 23:00:00.0000000   0.465  0.000465\n",
       "   28887  2014-02-27 23:30:00.0000000   0.403  0.000403\n",
       "   28888  2014-02-28 00:00:00.0000000   0.369  0.000369\n",
       "   28889  2014-02-28 00:00:00.0000000   0.369  0.000369\n",
       "   \n",
       "   [28890 rows x 3 columns]}},\n",
       " 'bus_003': {'MAC003996': {'phases': 2,\n",
       "   'voltage': 0.22,\n",
       "   'power': 1000,\n",
       "   'profile':                           datetime  Ppower    Qpower\n",
       "   0      2012-07-06 12:00:00.0000000   0.033  0.000033\n",
       "   1      2012-07-06 12:30:00.0000000   0.033  0.000033\n",
       "   2      2012-07-06 13:00:00.0000000   0.030  0.000030\n",
       "   3      2012-07-06 13:30:00.0000000   0.035  0.000035\n",
       "   4      2012-07-06 14:00:00.0000000   0.029  0.000029\n",
       "   ...                            ...     ...       ...\n",
       "   28886  2014-02-27 22:30:00.0000000   0.016  0.000016\n",
       "   28887  2014-02-27 23:00:00.0000000   0.039  0.000039\n",
       "   28888  2014-02-27 23:30:00.0000000   0.051  0.000051\n",
       "   28889  2014-02-28 00:00:00.0000000   0.042  0.000042\n",
       "   28890  2014-02-28 00:00:00.0000000   0.042  0.000042\n",
       "   \n",
       "   [28891 rows x 3 columns]}},\n",
       " 'bus_004': {}}"
      ]
     },
     "metadata": {},
     "output_type": "display_data"
    }
   ],
   "source": [
    "profiles = os.listdir(dir_cargas)\n",
    "\n",
    "buses = bus_dictionary(nbarramentos)\n",
    "for i in range(3):\n",
    "    bus = 'bus_'+str(i+1).zfill(3)\n",
    "    name = profiles[i].replace('.csv','')\n",
    "    add_LoadToBus(buses,bus,name,2,0.22,1000,dir_cargas+profiles[i])\n",
    "\n",
    "display(buses)"
   ]
  },
  {
   "cell_type": "markdown",
   "metadata": {},
   "source": [
    "# Garantindo que o Opendss esteja limpo"
   ]
  },
  {
   "cell_type": "code",
   "execution_count": 6,
   "metadata": {},
   "outputs": [
    {
     "name": "stdout",
     "output_type": "stream",
     "text": [
      "<bound method ICircuit.AllBusNames of <opendssdirect.Circuit.ICircuit object at 0x000001EE36484150>>\n"
     ]
    }
   ],
   "source": [
    "dss.Basic.ClearAll()\n",
    "dss.Basic.Start(0)\n",
    "Text.Command(\"Clear\")\n",
    "Text.Command(f\"Compile {opendssmodel}\")\n",
    "\n",
    "print(Circuit.AllBusNames)"
   ]
  },
  {
   "cell_type": "markdown",
   "metadata": {},
   "source": [
    "# Fluxo de carga"
   ]
  },
  {
   "cell_type": "code",
   "execution_count": 7,
   "metadata": {},
   "outputs": [
    {
     "name": "stdout",
     "output_type": "stream",
     "text": [
      "0 128.7819965915692\n",
      "-121.68958423512392 30.3258262021987\n",
      "-29.885502365629968 8.590508667033459e-14\n",
      "-1.1914234658304662e-13 0\n",
      "0 117.6033711453934\n",
      "-111.6934419935661 30.65070297564995\n",
      "-30.20580274448079 2.304569785504386e-13\n",
      "-2.158990456600733e-13 0\n"
     ]
    },
    {
     "name": "stderr",
     "output_type": "stream",
     "text": [
      "C:\\Users\\joao9\\AppData\\Local\\Temp\\ipykernel_14876\\1026979376.py:12: FutureWarning: Non-integer 'periods' in pd.date_range, pd.timedelta_range, pd.period_range, and pd.interval_range are deprecated and will raise in a future version.\n",
      "  range_time = pd.date_range('2012-07-06 12:00:00', periods=horas*60/intervalo, freq=str(intervalo)+'T')\n",
      "C:\\Users\\joao9\\AppData\\Local\\Temp\\ipykernel_14876\\1026979376.py:12: FutureWarning: 'T' is deprecated and will be removed in a future version, please use 'min' instead.\n",
      "  range_time = pd.date_range('2012-07-06 12:00:00', periods=horas*60/intervalo, freq=str(intervalo)+'T')\n",
      "C:\\Users\\joao9\\AppData\\Local\\Temp\\ipykernel_14876\\1026979376.py:60: FutureWarning: The behavior of DataFrame concatenation with empty or all-NA entries is deprecated. In a future version, this will no longer exclude empty or all-NA columns when determining the result dtypes. To retain the old behavior, exclude the relevant entries before the concat operation.\n",
      "  power_df = pd.concat([power_df, power])\n",
      "c:\\Users\\joao9\\GitHub\\opendss\\src\\powerflow\\get_powers.py:91: FutureWarning: The behavior of DataFrame concatenation with empty or all-NA entries is deprecated. In a future version, this will no longer exclude empty or all-NA columns when determining the result dtypes. To retain the old behavior, exclude the relevant entries before the concat operation.\n",
      "  node_power_df = pd.concat([node_power_df, pd.DataFrame([[i, bus, P_node, Q_node,voltage_magnitudes]], columns=column)])\n",
      "C:\\Users\\joao9\\AppData\\Local\\Temp\\ipykernel_14876\\1026979376.py:75: FutureWarning: The behavior of DataFrame concatenation with empty or all-NA entries is deprecated. In a future version, this will no longer exclude empty or all-NA columns when determining the result dtypes. To retain the old behavior, exclude the relevant entries before the concat operation.\n",
      "  node_power_df1 = pd.concat([node_power_df1, node_power])\n",
      "c:\\Users\\joao9\\GitHub\\opendss\\src\\powerflow\\get_powers.py:91: FutureWarning: The behavior of DataFrame concatenation with empty or all-NA entries is deprecated. In a future version, this will no longer exclude empty or all-NA columns when determining the result dtypes. To retain the old behavior, exclude the relevant entries before the concat operation.\n",
      "  node_power_df = pd.concat([node_power_df, pd.DataFrame([[i, bus, P_node, Q_node,voltage_magnitudes]], columns=column)])\n"
     ]
    },
    {
     "name": "stdout",
     "output_type": "stream",
     "text": [
      "0 83.84779290856955\n",
      "-80.84920943671936 28.79704790721949\n",
      "-28.416616182014476 4.5761325949374694e-14\n",
      "5.2403005819300515e-14 0\n",
      "0 78.82200340485664\n",
      "-76.1721363393951 33.66998467296645\n",
      "-33.15216816756903 3.3269985418312334e-13\n",
      "-1.4606850705159728e-13 0\n",
      "0 45.99852581852733\n",
      "-45.09722570251636 28.435215955669484\n",
      "-28.076844295642218 -7.397935651379295e-14\n",
      "-1.0457647526531271e-13 0\n",
      "0 141.56986747986656\n",
      "-132.989235037587 32.632563115390965\n",
      "-32.11605132098799 -2.57110567742761e-13\n",
      "7.332738889745223e-14 0\n",
      "0 121.43120438476159\n",
      "-115.12931750295782 27.80242375115498\n",
      "-27.435051170792875 1.9760946278420368e-13\n",
      "-9.422733028844873e-14 0\n",
      "0 131.4283953322635\n",
      "-124.03885057898883 33.85129327073272\n",
      "-33.30106478971824 3.2964177984637165e-14\n",
      "-3.079738556116914e-13 0\n",
      "0 61.99775510506341\n",
      "-60.35977838713657 27.26740802866568\n",
      "-26.93308276815847 -1.1011070419062888e-13\n",
      "3.4844005788868893e-13 0\n"
     ]
    },
    {
     "name": "stderr",
     "output_type": "stream",
     "text": [
      "c:\\Users\\joao9\\GitHub\\opendss\\src\\powerflow\\get_powers.py:91: FutureWarning: The behavior of DataFrame concatenation with empty or all-NA entries is deprecated. In a future version, this will no longer exclude empty or all-NA columns when determining the result dtypes. To retain the old behavior, exclude the relevant entries before the concat operation.\n",
      "  node_power_df = pd.concat([node_power_df, pd.DataFrame([[i, bus, P_node, Q_node,voltage_magnitudes]], columns=column)])\n",
      "c:\\Users\\joao9\\GitHub\\opendss\\src\\powerflow\\get_powers.py:91: FutureWarning: The behavior of DataFrame concatenation with empty or all-NA entries is deprecated. In a future version, this will no longer exclude empty or all-NA columns when determining the result dtypes. To retain the old behavior, exclude the relevant entries before the concat operation.\n",
      "  node_power_df = pd.concat([node_power_df, pd.DataFrame([[i, bus, P_node, Q_node,voltage_magnitudes]], columns=column)])\n",
      "c:\\Users\\joao9\\GitHub\\opendss\\src\\powerflow\\get_powers.py:91: FutureWarning: The behavior of DataFrame concatenation with empty or all-NA entries is deprecated. In a future version, this will no longer exclude empty or all-NA columns when determining the result dtypes. To retain the old behavior, exclude the relevant entries before the concat operation.\n",
      "  node_power_df = pd.concat([node_power_df, pd.DataFrame([[i, bus, P_node, Q_node,voltage_magnitudes]], columns=column)])\n",
      "c:\\Users\\joao9\\GitHub\\opendss\\src\\powerflow\\get_powers.py:91: FutureWarning: The behavior of DataFrame concatenation with empty or all-NA entries is deprecated. In a future version, this will no longer exclude empty or all-NA columns when determining the result dtypes. To retain the old behavior, exclude the relevant entries before the concat operation.\n",
      "  node_power_df = pd.concat([node_power_df, pd.DataFrame([[i, bus, P_node, Q_node,voltage_magnitudes]], columns=column)])\n",
      "c:\\Users\\joao9\\GitHub\\opendss\\src\\powerflow\\get_powers.py:91: FutureWarning: The behavior of DataFrame concatenation with empty or all-NA entries is deprecated. In a future version, this will no longer exclude empty or all-NA columns when determining the result dtypes. To retain the old behavior, exclude the relevant entries before the concat operation.\n",
      "  node_power_df = pd.concat([node_power_df, pd.DataFrame([[i, bus, P_node, Q_node,voltage_magnitudes]], columns=column)])\n",
      "c:\\Users\\joao9\\GitHub\\opendss\\src\\powerflow\\get_powers.py:91: FutureWarning: The behavior of DataFrame concatenation with empty or all-NA entries is deprecated. In a future version, this will no longer exclude empty or all-NA columns when determining the result dtypes. To retain the old behavior, exclude the relevant entries before the concat operation.\n",
      "  node_power_df = pd.concat([node_power_df, pd.DataFrame([[i, bus, P_node, Q_node,voltage_magnitudes]], columns=column)])\n",
      "c:\\Users\\joao9\\GitHub\\opendss\\src\\powerflow\\get_powers.py:91: FutureWarning: The behavior of DataFrame concatenation with empty or all-NA entries is deprecated. In a future version, this will no longer exclude empty or all-NA columns when determining the result dtypes. To retain the old behavior, exclude the relevant entries before the concat operation.\n",
      "  node_power_df = pd.concat([node_power_df, pd.DataFrame([[i, bus, P_node, Q_node,voltage_magnitudes]], columns=column)])\n"
     ]
    },
    {
     "name": "stdout",
     "output_type": "stream",
     "text": [
      "0 82.62452246740499\n",
      "-79.71175873198568 38.25252834413748\n",
      "-37.58167163521154 -7.765718561452084e-14\n",
      "-2.1305317863394438e-13 0\n",
      "0 145.5004405507706\n",
      "-136.4368358673931 23.588044787419065\n",
      "-23.317230978203142 -3.1013920029561334e-13\n",
      "1.6760468986135712e-13 0\n",
      "0 154.07493071480692\n",
      "-143.89714717951125 37.50764373266779\n",
      "-36.81621994758793 -8.362823262078055e-14\n",
      "5.29435730919955e-14 0\n",
      "0 130.89328651042095\n",
      "-123.56774202014522 21.192661318526024\n",
      "-20.977267656591675 -3.840456557276608e-14\n",
      "-6.537286755297166e-14 0\n",
      "0 139.411228044116\n",
      "-131.08838895364582 40.70143296505877\n",
      "-39.899134545149636 -1.9962569363679396e-13\n",
      "3.1314561995193173e-13 0\n",
      "0 178.70258628301397\n",
      "-164.98439005037721 18.48119512183826\n",
      "-18.309106819252165 -1.1253230185071791e-13\n",
      "-9.03784015002202e-14 0\n",
      "0 204.8114416228094\n",
      "-186.7071251558004 39.82280443378358\n",
      "-38.99894177152789 1.6713371587382298e-13\n",
      "-2.518309782593925e-13 0\n"
     ]
    },
    {
     "name": "stderr",
     "output_type": "stream",
     "text": [
      "c:\\Users\\joao9\\GitHub\\opendss\\src\\powerflow\\get_powers.py:91: FutureWarning: The behavior of DataFrame concatenation with empty or all-NA entries is deprecated. In a future version, this will no longer exclude empty or all-NA columns when determining the result dtypes. To retain the old behavior, exclude the relevant entries before the concat operation.\n",
      "  node_power_df = pd.concat([node_power_df, pd.DataFrame([[i, bus, P_node, Q_node,voltage_magnitudes]], columns=column)])\n",
      "c:\\Users\\joao9\\GitHub\\opendss\\src\\powerflow\\get_powers.py:91: FutureWarning: The behavior of DataFrame concatenation with empty or all-NA entries is deprecated. In a future version, this will no longer exclude empty or all-NA columns when determining the result dtypes. To retain the old behavior, exclude the relevant entries before the concat operation.\n",
      "  node_power_df = pd.concat([node_power_df, pd.DataFrame([[i, bus, P_node, Q_node,voltage_magnitudes]], columns=column)])\n",
      "c:\\Users\\joao9\\GitHub\\opendss\\src\\powerflow\\get_powers.py:91: FutureWarning: The behavior of DataFrame concatenation with empty or all-NA entries is deprecated. In a future version, this will no longer exclude empty or all-NA columns when determining the result dtypes. To retain the old behavior, exclude the relevant entries before the concat operation.\n",
      "  node_power_df = pd.concat([node_power_df, pd.DataFrame([[i, bus, P_node, Q_node,voltage_magnitudes]], columns=column)])\n",
      "c:\\Users\\joao9\\GitHub\\opendss\\src\\powerflow\\get_powers.py:91: FutureWarning: The behavior of DataFrame concatenation with empty or all-NA entries is deprecated. In a future version, this will no longer exclude empty or all-NA columns when determining the result dtypes. To retain the old behavior, exclude the relevant entries before the concat operation.\n",
      "  node_power_df = pd.concat([node_power_df, pd.DataFrame([[i, bus, P_node, Q_node,voltage_magnitudes]], columns=column)])\n",
      "c:\\Users\\joao9\\GitHub\\opendss\\src\\powerflow\\get_powers.py:91: FutureWarning: The behavior of DataFrame concatenation with empty or all-NA entries is deprecated. In a future version, this will no longer exclude empty or all-NA columns when determining the result dtypes. To retain the old behavior, exclude the relevant entries before the concat operation.\n",
      "  node_power_df = pd.concat([node_power_df, pd.DataFrame([[i, bus, P_node, Q_node,voltage_magnitudes]], columns=column)])\n",
      "c:\\Users\\joao9\\GitHub\\opendss\\src\\powerflow\\get_powers.py:91: FutureWarning: The behavior of DataFrame concatenation with empty or all-NA entries is deprecated. In a future version, this will no longer exclude empty or all-NA columns when determining the result dtypes. To retain the old behavior, exclude the relevant entries before the concat operation.\n",
      "  node_power_df = pd.concat([node_power_df, pd.DataFrame([[i, bus, P_node, Q_node,voltage_magnitudes]], columns=column)])\n",
      "c:\\Users\\joao9\\GitHub\\opendss\\src\\powerflow\\get_powers.py:91: FutureWarning: The behavior of DataFrame concatenation with empty or all-NA entries is deprecated. In a future version, this will no longer exclude empty or all-NA columns when determining the result dtypes. To retain the old behavior, exclude the relevant entries before the concat operation.\n",
      "  node_power_df = pd.concat([node_power_df, pd.DataFrame([[i, bus, P_node, Q_node,voltage_magnitudes]], columns=column)])\n"
     ]
    },
    {
     "name": "stdout",
     "output_type": "stream",
     "text": [
      "0 172.5805989432389\n",
      "-159.7963544834363 15.95893707795684\n",
      "-15.83146185726082 -1.4344498340128058e-13\n",
      "3.2532013192398296e-13 0\n",
      "0 261.60094496661924\n",
      "-231.21555194968437 130.30398336369467\n",
      "-120.57508318019822 -5.1464769810138575e-14\n",
      "-3.84720795395389e-14 0\n",
      "0 421.3281812400049\n",
      "-340.5870059915496 36.474853977672836\n",
      "-35.547471788230254 -3.568766064881713e-14\n",
      "-9.875160420657068e-14 0\n",
      "0 343.72217812605925\n",
      "-291.0448056078961 58.14202122151039\n",
      "-56.03407067264221 -2.866774057902718e-14\n",
      "-1.3572073452563711e-13 0\n",
      "0 338.85264774254983\n",
      "-287.7064794956655 60.559675246364925\n",
      "-58.28701416247691 -1.9429420791002323e-13\n",
      "3.003884888530187e-13 0\n",
      "0 248.62308314156328\n",
      "-221.71651144940049 46.76060988481344\n"
     ]
    },
    {
     "name": "stderr",
     "output_type": "stream",
     "text": [
      "c:\\Users\\joao9\\GitHub\\opendss\\src\\powerflow\\get_powers.py:91: FutureWarning: The behavior of DataFrame concatenation with empty or all-NA entries is deprecated. In a future version, this will no longer exclude empty or all-NA columns when determining the result dtypes. To retain the old behavior, exclude the relevant entries before the concat operation.\n",
      "  node_power_df = pd.concat([node_power_df, pd.DataFrame([[i, bus, P_node, Q_node,voltage_magnitudes]], columns=column)])\n",
      "c:\\Users\\joao9\\GitHub\\opendss\\src\\powerflow\\get_powers.py:91: FutureWarning: The behavior of DataFrame concatenation with empty or all-NA entries is deprecated. In a future version, this will no longer exclude empty or all-NA columns when determining the result dtypes. To retain the old behavior, exclude the relevant entries before the concat operation.\n",
      "  node_power_df = pd.concat([node_power_df, pd.DataFrame([[i, bus, P_node, Q_node,voltage_magnitudes]], columns=column)])\n",
      "c:\\Users\\joao9\\GitHub\\opendss\\src\\powerflow\\get_powers.py:91: FutureWarning: The behavior of DataFrame concatenation with empty or all-NA entries is deprecated. In a future version, this will no longer exclude empty or all-NA columns when determining the result dtypes. To retain the old behavior, exclude the relevant entries before the concat operation.\n",
      "  node_power_df = pd.concat([node_power_df, pd.DataFrame([[i, bus, P_node, Q_node,voltage_magnitudes]], columns=column)])\n",
      "c:\\Users\\joao9\\GitHub\\opendss\\src\\powerflow\\get_powers.py:91: FutureWarning: The behavior of DataFrame concatenation with empty or all-NA entries is deprecated. In a future version, this will no longer exclude empty or all-NA columns when determining the result dtypes. To retain the old behavior, exclude the relevant entries before the concat operation.\n",
      "  node_power_df = pd.concat([node_power_df, pd.DataFrame([[i, bus, P_node, Q_node,voltage_magnitudes]], columns=column)])\n",
      "c:\\Users\\joao9\\GitHub\\opendss\\src\\powerflow\\get_powers.py:91: FutureWarning: The behavior of DataFrame concatenation with empty or all-NA entries is deprecated. In a future version, this will no longer exclude empty or all-NA columns when determining the result dtypes. To retain the old behavior, exclude the relevant entries before the concat operation.\n",
      "  node_power_df = pd.concat([node_power_df, pd.DataFrame([[i, bus, P_node, Q_node,voltage_magnitudes]], columns=column)])\n",
      "c:\\Users\\joao9\\GitHub\\opendss\\src\\powerflow\\get_powers.py:91: FutureWarning: The behavior of DataFrame concatenation with empty or all-NA entries is deprecated. In a future version, this will no longer exclude empty or all-NA columns when determining the result dtypes. To retain the old behavior, exclude the relevant entries before the concat operation.\n",
      "  node_power_df = pd.concat([node_power_df, pd.DataFrame([[i, bus, P_node, Q_node,voltage_magnitudes]], columns=column)])\n"
     ]
    },
    {
     "name": "stdout",
     "output_type": "stream",
     "text": [
      "-45.562399292121185 -2.1494696100612219e-13\n",
      "2.3252922917446625e-13 0\n",
      "0 180.71744526458298\n",
      "-166.67215462966828 37.39030443589606\n",
      "-36.68343910936342 -7.707444563447428e-14\n",
      "5.928726321042646e-14 0\n",
      "0 148.8850638822553\n",
      "-139.38880291915177 31.516741478169102\n",
      "-31.031372409018804 1.2634403580584399e-14\n",
      "6.653808600925168e-14 0\n",
      "0 179.6449915896678\n",
      "-165.76412368659237 41.6856660145442\n",
      "-40.8076843543493 -2.8760138040465806e-13\n",
      "2.857009300337499e-13 0\n",
      "0 154.5604729931132\n",
      "-144.32428617931328 23.380715480781163\n",
      "-23.112160404802523 -1.1635014102423418e-13\n",
      "-1.559995426880852e-13 0\n",
      "0 116.86095033005387\n",
      "-111.02038468057252 47.889124581201386\n",
      "-46.8022859400576 1.4566959277628532e-14\n",
      "-2.209064794781393e-13 0\n"
     ]
    },
    {
     "name": "stderr",
     "output_type": "stream",
     "text": [
      "c:\\Users\\joao9\\GitHub\\opendss\\src\\powerflow\\get_powers.py:91: FutureWarning: The behavior of DataFrame concatenation with empty or all-NA entries is deprecated. In a future version, this will no longer exclude empty or all-NA columns when determining the result dtypes. To retain the old behavior, exclude the relevant entries before the concat operation.\n",
      "  node_power_df = pd.concat([node_power_df, pd.DataFrame([[i, bus, P_node, Q_node,voltage_magnitudes]], columns=column)])\n",
      "c:\\Users\\joao9\\GitHub\\opendss\\src\\powerflow\\get_powers.py:91: FutureWarning: The behavior of DataFrame concatenation with empty or all-NA entries is deprecated. In a future version, this will no longer exclude empty or all-NA columns when determining the result dtypes. To retain the old behavior, exclude the relevant entries before the concat operation.\n",
      "  node_power_df = pd.concat([node_power_df, pd.DataFrame([[i, bus, P_node, Q_node,voltage_magnitudes]], columns=column)])\n",
      "c:\\Users\\joao9\\GitHub\\opendss\\src\\powerflow\\get_powers.py:91: FutureWarning: The behavior of DataFrame concatenation with empty or all-NA entries is deprecated. In a future version, this will no longer exclude empty or all-NA columns when determining the result dtypes. To retain the old behavior, exclude the relevant entries before the concat operation.\n",
      "  node_power_df = pd.concat([node_power_df, pd.DataFrame([[i, bus, P_node, Q_node,voltage_magnitudes]], columns=column)])\n",
      "c:\\Users\\joao9\\GitHub\\opendss\\src\\powerflow\\get_powers.py:91: FutureWarning: The behavior of DataFrame concatenation with empty or all-NA entries is deprecated. In a future version, this will no longer exclude empty or all-NA columns when determining the result dtypes. To retain the old behavior, exclude the relevant entries before the concat operation.\n",
      "  node_power_df = pd.concat([node_power_df, pd.DataFrame([[i, bus, P_node, Q_node,voltage_magnitudes]], columns=column)])\n",
      "c:\\Users\\joao9\\GitHub\\opendss\\src\\powerflow\\get_powers.py:91: FutureWarning: The behavior of DataFrame concatenation with empty or all-NA entries is deprecated. In a future version, this will no longer exclude empty or all-NA columns when determining the result dtypes. To retain the old behavior, exclude the relevant entries before the concat operation.\n",
      "  node_power_df = pd.concat([node_power_df, pd.DataFrame([[i, bus, P_node, Q_node,voltage_magnitudes]], columns=column)])\n",
      "c:\\Users\\joao9\\GitHub\\opendss\\src\\powerflow\\get_powers.py:91: FutureWarning: The behavior of DataFrame concatenation with empty or all-NA entries is deprecated. In a future version, this will no longer exclude empty or all-NA columns when determining the result dtypes. To retain the old behavior, exclude the relevant entries before the concat operation.\n",
      "  node_power_df = pd.concat([node_power_df, pd.DataFrame([[i, bus, P_node, Q_node,voltage_magnitudes]], columns=column)])\n"
     ]
    },
    {
     "name": "stdout",
     "output_type": "stream",
     "text": [
      "0 108.42818840970595\n",
      "-103.4085532454065 22.58173181538181\n",
      "-22.342457356257693 -2.7370477216003033e-13\n",
      "8.686983767846448e-14 0\n",
      "0 106.34675981628088\n",
      "-101.51208365465769 51.07800261041285\n",
      "-49.85372477344812 -1.1017068479061566e-13\n",
      "-2.3111454161905262e-14 0\n",
      "0 90.86662429666977\n",
      "-87.34449099127933 22.95454039330527\n",
      "-22.71130521299351 -5.78118089977423e-14\n",
      "3.511224095473981e-13 0\n",
      "0 115.87652205734284\n",
      "-110.1340493328408 48.83196930288207\n",
      "-47.70290642995462 1.3834292051874062e-13\n",
      "2.7804719584976783e-14 0\n",
      "0 87.91716472581983\n",
      "-84.62054839223677 22.068761240792313\n",
      "-21.84454887635739 4.038152350452889e-14\n",
      "-3.611657325930267e-13 0\n",
      "0 106.44545686853435\n",
      "-101.60236012154245 49.264942440532735\n",
      "-48.126153927814435 -3.0089300182533564e-13\n",
      "3.15002949062708e-13 0\n",
      "0 88.87339115636684\n",
      "-85.5043491295956 23.943752492221787\n",
      "-23.67957822029377 -9.349369259069158e-14\n",
      "9.758638608605306e-14 0\n"
     ]
    },
    {
     "name": "stderr",
     "output_type": "stream",
     "text": [
      "c:\\Users\\joao9\\GitHub\\opendss\\src\\powerflow\\get_powers.py:91: FutureWarning: The behavior of DataFrame concatenation with empty or all-NA entries is deprecated. In a future version, this will no longer exclude empty or all-NA columns when determining the result dtypes. To retain the old behavior, exclude the relevant entries before the concat operation.\n",
      "  node_power_df = pd.concat([node_power_df, pd.DataFrame([[i, bus, P_node, Q_node,voltage_magnitudes]], columns=column)])\n",
      "c:\\Users\\joao9\\GitHub\\opendss\\src\\powerflow\\get_powers.py:91: FutureWarning: The behavior of DataFrame concatenation with empty or all-NA entries is deprecated. In a future version, this will no longer exclude empty or all-NA columns when determining the result dtypes. To retain the old behavior, exclude the relevant entries before the concat operation.\n",
      "  node_power_df = pd.concat([node_power_df, pd.DataFrame([[i, bus, P_node, Q_node,voltage_magnitudes]], columns=column)])\n",
      "c:\\Users\\joao9\\GitHub\\opendss\\src\\powerflow\\get_powers.py:91: FutureWarning: The behavior of DataFrame concatenation with empty or all-NA entries is deprecated. In a future version, this will no longer exclude empty or all-NA columns when determining the result dtypes. To retain the old behavior, exclude the relevant entries before the concat operation.\n",
      "  node_power_df = pd.concat([node_power_df, pd.DataFrame([[i, bus, P_node, Q_node,voltage_magnitudes]], columns=column)])\n",
      "c:\\Users\\joao9\\GitHub\\opendss\\src\\powerflow\\get_powers.py:91: FutureWarning: The behavior of DataFrame concatenation with empty or all-NA entries is deprecated. In a future version, this will no longer exclude empty or all-NA columns when determining the result dtypes. To retain the old behavior, exclude the relevant entries before the concat operation.\n",
      "  node_power_df = pd.concat([node_power_df, pd.DataFrame([[i, bus, P_node, Q_node,voltage_magnitudes]], columns=column)])\n",
      "c:\\Users\\joao9\\GitHub\\opendss\\src\\powerflow\\get_powers.py:91: FutureWarning: The behavior of DataFrame concatenation with empty or all-NA entries is deprecated. In a future version, this will no longer exclude empty or all-NA columns when determining the result dtypes. To retain the old behavior, exclude the relevant entries before the concat operation.\n",
      "  node_power_df = pd.concat([node_power_df, pd.DataFrame([[i, bus, P_node, Q_node,voltage_magnitudes]], columns=column)])\n",
      "c:\\Users\\joao9\\GitHub\\opendss\\src\\powerflow\\get_powers.py:91: FutureWarning: The behavior of DataFrame concatenation with empty or all-NA entries is deprecated. In a future version, this will no longer exclude empty or all-NA columns when determining the result dtypes. To retain the old behavior, exclude the relevant entries before the concat operation.\n",
      "  node_power_df = pd.concat([node_power_df, pd.DataFrame([[i, bus, P_node, Q_node,voltage_magnitudes]], columns=column)])\n"
     ]
    },
    {
     "name": "stdout",
     "output_type": "stream",
     "text": [
      "0 146.70140318531395\n",
      "-137.46767860888593 56.95555221769618\n",
      "-55.369544965918436 1.6326531439200934e-13\n",
      "-2.2544176573927914e-13 0\n",
      "0 140.88880093722736\n",
      "-132.39354023427776 25.492807159481007\n",
      "-25.17793985956526 -4.509456468435601e-13\n",
      "2.946443607946215e-13 0\n",
      "0 163.34167010452708\n",
      "-151.8819569398096 49.2309521058556\n",
      "-48.02647634878762 -9.75834788917039e-16\n",
      "2.83984612239272e-13 0\n",
      "0 292.7071450889379\n",
      "-255.09806333497303 21.827514033722064\n",
      "-21.55204479115272 -2.56259567028484e-13\n",
      "7.946034408181534e-14 0\n",
      "0 112.38984139896354\n",
      "-106.99077819057321 43.573939024800566\n",
      "-42.67844937739172 -2.8474138636374813e-13\n",
      "2.610851483607952e-13 0\n",
      "0 143.14641731345245\n",
      "-134.36956194544047 38.789812719421654\n",
      "-38.058462765297286 -2.1078980525143573e-13\n",
      "-2.997410129996802e-14 0\n"
     ]
    },
    {
     "name": "stderr",
     "output_type": "stream",
     "text": [
      "c:\\Users\\joao9\\GitHub\\opendss\\src\\powerflow\\get_powers.py:91: FutureWarning: The behavior of DataFrame concatenation with empty or all-NA entries is deprecated. In a future version, this will no longer exclude empty or all-NA columns when determining the result dtypes. To retain the old behavior, exclude the relevant entries before the concat operation.\n",
      "  node_power_df = pd.concat([node_power_df, pd.DataFrame([[i, bus, P_node, Q_node,voltage_magnitudes]], columns=column)])\n",
      "c:\\Users\\joao9\\GitHub\\opendss\\src\\powerflow\\get_powers.py:91: FutureWarning: The behavior of DataFrame concatenation with empty or all-NA entries is deprecated. In a future version, this will no longer exclude empty or all-NA columns when determining the result dtypes. To retain the old behavior, exclude the relevant entries before the concat operation.\n",
      "  node_power_df = pd.concat([node_power_df, pd.DataFrame([[i, bus, P_node, Q_node,voltage_magnitudes]], columns=column)])\n",
      "c:\\Users\\joao9\\GitHub\\opendss\\src\\powerflow\\get_powers.py:91: FutureWarning: The behavior of DataFrame concatenation with empty or all-NA entries is deprecated. In a future version, this will no longer exclude empty or all-NA columns when determining the result dtypes. To retain the old behavior, exclude the relevant entries before the concat operation.\n",
      "  node_power_df = pd.concat([node_power_df, pd.DataFrame([[i, bus, P_node, Q_node,voltage_magnitudes]], columns=column)])\n",
      "c:\\Users\\joao9\\GitHub\\opendss\\src\\powerflow\\get_powers.py:91: FutureWarning: The behavior of DataFrame concatenation with empty or all-NA entries is deprecated. In a future version, this will no longer exclude empty or all-NA columns when determining the result dtypes. To retain the old behavior, exclude the relevant entries before the concat operation.\n",
      "  node_power_df = pd.concat([node_power_df, pd.DataFrame([[i, bus, P_node, Q_node,voltage_magnitudes]], columns=column)])\n",
      "c:\\Users\\joao9\\GitHub\\opendss\\src\\powerflow\\get_powers.py:91: FutureWarning: The behavior of DataFrame concatenation with empty or all-NA entries is deprecated. In a future version, this will no longer exclude empty or all-NA columns when determining the result dtypes. To retain the old behavior, exclude the relevant entries before the concat operation.\n",
      "  node_power_df = pd.concat([node_power_df, pd.DataFrame([[i, bus, P_node, Q_node,voltage_magnitudes]], columns=column)])\n",
      "c:\\Users\\joao9\\GitHub\\opendss\\src\\powerflow\\get_powers.py:91: FutureWarning: The behavior of DataFrame concatenation with empty or all-NA entries is deprecated. In a future version, this will no longer exclude empty or all-NA columns when determining the result dtypes. To retain the old behavior, exclude the relevant entries before the concat operation.\n",
      "  node_power_df = pd.concat([node_power_df, pd.DataFrame([[i, bus, P_node, Q_node,voltage_magnitudes]], columns=column)])\n"
     ]
    },
    {
     "name": "stdout",
     "output_type": "stream",
     "text": [
      "0 209.18297338786252\n",
      "-190.05053453930273 111.4045610509838\n",
      "-104.79337708700176 -4.845576928009813e-14\n",
      "5.240829771320202e-14 0\n",
      "0 131.56047590726524\n",
      "-124.13848972909257 64.7470437060163\n",
      "-62.72631716083841 1.917621849733506e-14\n",
      "-7.822607955508771e-15 0\n",
      "0 109.9741746669394\n",
      "-104.80185187063815 53.601329532938664\n",
      "-52.24795185218306 -8.520944974509456e-14\n",
      "1.615041339856288e-13 0\n",
      "0 123.14862983730089\n",
      "-116.6655116232856 32.30721597327019\n",
      "-31.81020011586265 4.641754251711488e-14\n",
      "9.150931561883049e-15 0\n",
      "0 132.93796784339563\n",
      "-125.37385493982364 41.84521446433707\n",
      "-41.00262804673972 -2.350186297539491e-14\n",
      "3.0642729334618744e-14 0\n"
     ]
    },
    {
     "name": "stderr",
     "output_type": "stream",
     "text": [
      "c:\\Users\\joao9\\GitHub\\opendss\\src\\powerflow\\get_powers.py:91: FutureWarning: The behavior of DataFrame concatenation with empty or all-NA entries is deprecated. In a future version, this will no longer exclude empty or all-NA columns when determining the result dtypes. To retain the old behavior, exclude the relevant entries before the concat operation.\n",
      "  node_power_df = pd.concat([node_power_df, pd.DataFrame([[i, bus, P_node, Q_node,voltage_magnitudes]], columns=column)])\n",
      "c:\\Users\\joao9\\GitHub\\opendss\\src\\powerflow\\get_powers.py:91: FutureWarning: The behavior of DataFrame concatenation with empty or all-NA entries is deprecated. In a future version, this will no longer exclude empty or all-NA columns when determining the result dtypes. To retain the old behavior, exclude the relevant entries before the concat operation.\n",
      "  node_power_df = pd.concat([node_power_df, pd.DataFrame([[i, bus, P_node, Q_node,voltage_magnitudes]], columns=column)])\n",
      "c:\\Users\\joao9\\GitHub\\opendss\\src\\powerflow\\get_powers.py:91: FutureWarning: The behavior of DataFrame concatenation with empty or all-NA entries is deprecated. In a future version, this will no longer exclude empty or all-NA columns when determining the result dtypes. To retain the old behavior, exclude the relevant entries before the concat operation.\n",
      "  node_power_df = pd.concat([node_power_df, pd.DataFrame([[i, bus, P_node, Q_node,voltage_magnitudes]], columns=column)])\n",
      "c:\\Users\\joao9\\GitHub\\opendss\\src\\powerflow\\get_powers.py:91: FutureWarning: The behavior of DataFrame concatenation with empty or all-NA entries is deprecated. In a future version, this will no longer exclude empty or all-NA columns when determining the result dtypes. To retain the old behavior, exclude the relevant entries before the concat operation.\n",
      "  node_power_df = pd.concat([node_power_df, pd.DataFrame([[i, bus, P_node, Q_node,voltage_magnitudes]], columns=column)])\n",
      "c:\\Users\\joao9\\GitHub\\opendss\\src\\powerflow\\get_powers.py:91: FutureWarning: The behavior of DataFrame concatenation with empty or all-NA entries is deprecated. In a future version, this will no longer exclude empty or all-NA columns when determining the result dtypes. To retain the old behavior, exclude the relevant entries before the concat operation.\n",
      "  node_power_df = pd.concat([node_power_df, pd.DataFrame([[i, bus, P_node, Q_node,voltage_magnitudes]], columns=column)])\n"
     ]
    },
    {
     "name": "stdout",
     "output_type": "stream",
     "text": [
      "0 85.97569195139836\n",
      "-82.8235094758835 19.25152413188129\n",
      "-19.08120860530995 -2.9275782113481564e-13\n",
      "9.380259562107285e-14 0\n",
      "0 58.00204722138463\n",
      "-56.56724869089828 43.89665877707311\n",
      "-43.03243852942146 -6.339693183195585e-14\n",
      "-1.0054646338087258e-13 0\n",
      "0 61.99888341124492\n",
      "-60.36134391134138 18.502569044571594\n",
      "-18.34869453554278 -2.5480261747258694e-13\n",
      "3.4721743380851345e-13 0\n"
     ]
    },
    {
     "name": "stderr",
     "output_type": "stream",
     "text": [
      "c:\\Users\\joao9\\GitHub\\opendss\\src\\powerflow\\get_powers.py:91: FutureWarning: The behavior of DataFrame concatenation with empty or all-NA entries is deprecated. In a future version, this will no longer exclude empty or all-NA columns when determining the result dtypes. To retain the old behavior, exclude the relevant entries before the concat operation.\n",
      "  node_power_df = pd.concat([node_power_df, pd.DataFrame([[i, bus, P_node, Q_node,voltage_magnitudes]], columns=column)])\n",
      "c:\\Users\\joao9\\GitHub\\opendss\\src\\powerflow\\get_powers.py:91: FutureWarning: The behavior of DataFrame concatenation with empty or all-NA entries is deprecated. In a future version, this will no longer exclude empty or all-NA columns when determining the result dtypes. To retain the old behavior, exclude the relevant entries before the concat operation.\n",
      "  node_power_df = pd.concat([node_power_df, pd.DataFrame([[i, bus, P_node, Q_node,voltage_magnitudes]], columns=column)])\n",
      "c:\\Users\\joao9\\GitHub\\opendss\\src\\powerflow\\get_powers.py:91: FutureWarning: The behavior of DataFrame concatenation with empty or all-NA entries is deprecated. In a future version, this will no longer exclude empty or all-NA columns when determining the result dtypes. To retain the old behavior, exclude the relevant entries before the concat operation.\n",
      "  node_power_df = pd.concat([node_power_df, pd.DataFrame([[i, bus, P_node, Q_node,voltage_magnitudes]], columns=column)])\n"
     ]
    }
   ],
   "source": [
    "column_power = ['datetime', 'line', 'bus_1', 'bus_2', 'P', 'Q']\n",
    "power_df = pd.DataFrame(columns = column_power)\n",
    "\n",
    "# column_node_power = ['datetime', 'bus','V', 'P', 'Q']\n",
    "# bus_power = pd.DataFrame(columns = column_power)\n",
    "\n",
    "column_node_power = ['datetime', 'bus', 'P', 'Q', 'V_a_b_c']\n",
    "node_power_df1 = pd.DataFrame(columns=column_node_power)\n",
    "\n",
    "\n",
    "\n",
    "range_time = pd.date_range('2012-07-06 12:00:00', periods=horas*60/intervalo, freq=str(intervalo)+'T')\n",
    "for time in range_time:\n",
    "\n",
    "  dss.Basic.ClearAll()\n",
    "  dss.Basic.Start(0)\n",
    "  Text.Command(\"Clear\")\n",
    "  Text.Command(f\"Compile {opendssmodel}\")\n",
    "\n",
    "  #Acessa os barramentos do dicionário\n",
    "  for bus in buses.keys():\n",
    "    loads = buses[bus].keys()\n",
    "    for load in loads:\n",
    "      carga = buses[bus][load]\n",
    "      new_command = add_load(time,load,bus, carga['phases'],carga['voltage'], carga['power'], carga['profile'])\n",
    "      Text.Command(new_command)\n",
    "\n",
    "  # for gen in distgen:\n",
    "  #   new_command = new_command + '\\n' + add_gd(time, gen, distgen[gen]['bus'], distgen[gen]['phases'], \n",
    "  #   distgen[gen]['conn'], distgen[gen]['voltage'], distgen[gen]['power'], distgen[gen]['profile'])\n",
    " \n",
    "  Text.Command(\"Set VoltageBases = [.22]\")\n",
    "  Text.Command(\"CalcVoltageBases\")\n",
    "  Text.Command(\"Set maxiterations = 500\")\n",
    "  Text.Command('set mode = snap')\n",
    "  Text.Command(\"Solve\")\n",
    "\n",
    "  # Power Flow to DataFrame\n",
    "  power = np.array(dss.PDElements.AllPowers())\n",
    "  # print(power)\n",
    "  power = power.reshape((-1, 6))\n",
    "  # print(power)\n",
    "  power = pd.DataFrame(power, columns=['P_a', 'Q_a', 'P_b', 'Q_b', 'P_c', 'Q_c'])\n",
    "  \n",
    "\n",
    "  # Create new column that contains sum of specific columns\n",
    "  power['P'] = power[['P_a', 'P_b', 'P_c']].sum(axis=1)\n",
    "  power['Q'] = power[['Q_a', 'Q_b', 'Q_c']].sum(axis=1)\n",
    "  # display(power)\n",
    "  \n",
    "  # Get the index for each row of the Data Frame\n",
    "  power_flow_index = []\n",
    "  for line in dss.Lines:\n",
    "      power_flow_index.append([time, line.Name(), line.Bus1(), line.Bus2()])\n",
    "      power_flow_index.append([time, line.Name(), line.Bus1(), line.Bus2()])\n",
    "  # print(power_flow_index)\n",
    "\n",
    "  power[['datetime', 'line', 'bus_1', 'bus_2']] = power_flow_index\n",
    "  # display(power)\n",
    "  power_df = pd.concat([power_df, power])\n",
    "  # display(power_df)\n",
    "\n",
    "\n",
    "  # Get distributed generation power\n",
    "  node_power = get_dist_power(time,column_node_power,power,buses,dss)\n",
    "  # display(node_power)\n",
    "\n",
    "\n",
    "  # Add Grid and Losses power to DataFrame\n",
    "  # The last \"Power Balance\" of the system, to be used in the smoothing algorithm.\n",
    "  node_power = pd.concat([node_power, pd.DataFrame([[time, 'grid', -dss.Circuit.TotalPower()[0], -dss.Circuit.TotalPower()[1], 0]], columns=column_node_power)])\n",
    "  node_power = pd.concat([node_power, pd.DataFrame([[time, 'losses', dss.Circuit.Losses()[0], dss.Circuit.Losses()[1], 0]], columns=column_node_power)])\n",
    "\n",
    "\n",
    "  node_power_df1 = pd.concat([node_power_df1, node_power])\n",
    "\n",
    "  "
   ]
  }
 ],
 "metadata": {
  "kernelspec": {
   "display_name": "goes",
   "language": "python",
   "name": "python3"
  },
  "language_info": {
   "codemirror_mode": {
    "name": "ipython",
    "version": 3
   },
   "file_extension": ".py",
   "mimetype": "text/x-python",
   "name": "python",
   "nbconvert_exporter": "python",
   "pygments_lexer": "ipython3",
   "version": "3.12.5"
  }
 },
 "nbformat": 4,
 "nbformat_minor": 2
}
