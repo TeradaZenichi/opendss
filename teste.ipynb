{
 "cells": [
  {
   "cell_type": "markdown",
   "metadata": {},
   "source": [
    "# Importando Bibliotecas e módulos necessários"
   ]
  },
  {
   "cell_type": "code",
   "execution_count": 1,
   "metadata": {},
   "outputs": [],
   "source": [
    "import os\n",
    "import sys\n",
    "sys.path.append(os.path.abspath(os.path.join(os.getcwd(), 'src')))\n",
    "import pandas as pd\n",
    "import numpy as np\n",
    "import matplotlib.pyplot as plt\n",
    "from dss import dss\n",
    "from powerflow.batery import distbess_dictionary\n",
    "from powerflow.generators import distgen_dictionary,add_gd\n",
    "from powerflow.get_powers import get_dist_power\n",
    "from powerflow.load import load_dictionary,add_load\n",
    "from powerflow.text_comands import set_frequency,new_circuit,line_geometry,add_line,add_infos\n"
   ]
  },
  {
   "cell_type": "markdown",
   "metadata": {},
   "source": [
    "# Diretórios dos dados\n"
   ]
  },
  {
   "cell_type": "code",
   "execution_count": 2,
   "metadata": {},
   "outputs": [],
   "source": [
    "# Diretório de datasets\n",
    "dir_datasets = 'C:\\\\Users\\\\joao9\\\\GitHub\\\\opendss\\\\datasets\\\\'\n",
    "\n",
    "#Diretório de arquivos .dss\n",
    "dir_dss = dir_datasets + 'arquivos_dss\\\\'\n",
    "\n",
    "# Diretório de arquivos de geração PV\n",
    "dir_pv = 'datasets\\\\generation_profiles\\\\'\n",
    "\n",
    "# Diretório de arquivos de cargas\n",
    "dir_cargas = 'datasets\\\\load_profiles\\\\'\n"
   ]
  },
  {
   "cell_type": "markdown",
   "metadata": {},
   "source": [
    "# Definições iniciais do circuito"
   ]
  },
  {
   "cell_type": "code",
   "execution_count": 3,
   "metadata": {},
   "outputs": [],
   "source": [
    "\n",
    "Text = dss.Text\n",
    "Circuit = dss.ActiveCircuit\n",
    "Solution = dss.ActiveCircuit.Solution\n",
    "\n",
    "# Definições da MatPlotLib\n",
    "plt.close('all')\n",
    "plt.style.use('ggplot')\n",
    "plt.rcParams[\"figure.figsize\"] = (8,4)\n",
    "plt.rcParams[\"figure.dpi\"] = 100\n",
    "plt.rcParams['font.family'] = 'DejaVu Sans'\n",
    "plt.rcParams['font.sans-serif'] = ['cmr10']\n",
    "plt.rcParams['axes.unicode_minus'] = False\n",
    "\n",
    "#Potências máximas\n",
    "PowerLoad=4\n",
    "PowerPV=6 #Potência total dos módulos\n",
    "\n",
    "# Definições do BESS\n",
    "Pmin=0.320\n",
    "BESS_P_MAX = 5\n",
    "BESS_C_MAX = 12\n",
    "SOC_MIN = 0.1 # 10%\n",
    "SOC_MAX = 0.9 # 90%\n",
    "BESS_E_MIN = BESS_C_MAX * SOC_MIN\n",
    "BESS_E_MAX = BESS_C_MAX * SOC_MAX\n",
    "\n",
    "# Definições do intervalo de simulação\n",
    "nconsumidores = len(os.listdir(dir_cargas))\n",
    "horas = 24 #hours\n",
    "intervalo = 30 #min"
   ]
  },
  {
   "cell_type": "markdown",
   "metadata": {},
   "source": [
    "# Criação do modelo base do arquivo.dss"
   ]
  },
  {
   "cell_type": "code",
   "execution_count": 4,
   "metadata": {},
   "outputs": [],
   "source": [
    "with open(dir_dss + 'ModelagemTeste.dss', 'w') as file:\n",
    "    file.write(set_frequency(60) + '\\n')\n",
    "    file.write(new_circuit('ModelagemTeste', str(1).zfill(3), 0.22) + '\\n')\n",
    "    file.write(line_geometry(0.52,0.63,'km',3.338,3,3,[-120.00,0.00,60.00],[1000.00,1000.00,1000.00])+ '\\n')\n",
    "    for i in range(1, nconsumidores+1,1):\n",
    "        file.write(add_line(i,str(i).zfill(3),str(i+1).zfill(3),25,'m',3)+ '\\n')\n",
    "    \n",
    "    file.write(add_infos())\n",
    "\n",
    "opendssmodel = dir_dss + 'ModelagemTeste.dss'"
   ]
  },
  {
   "cell_type": "markdown",
   "metadata": {},
   "source": [
    "# Criação dos dicionários que irão armazenar as inforamções das cargas, geraçãoPV e bateria"
   ]
  },
  {
   "cell_type": "code",
   "execution_count": 5,
   "metadata": {},
   "outputs": [],
   "source": [
    "profiles = os.listdir(dir_cargas)\n",
    "\n",
    "#Criando os dicionário com as cargas\n",
    "loads ={}\n",
    "for i in range(1,nconsumidores,1):\n",
    "    bus = str(i).zfill(3)\n",
    "    name = profiles[i].replace('.csv','')\n",
    "    dir_profile = dir_cargas + profiles[i]\n",
    "    loads[name] = load_dictionary(bus,3,0.22,PowerLoad,dir_profile)\n",
    "\n",
    "# Criação do dicionário de geração PV   \n",
    "distgen = {}\n",
    "bus = '001'\n",
    "name = 'pvbus001'\n",
    "dir_profilePV = dir_pv + 'dados_power_normalizado.csv'\n",
    "distgen[name] = distgen_dictionary(bus,3,0.22,PowerPV,dir_profilePV)"
   ]
  },
  {
   "cell_type": "markdown",
   "metadata": {},
   "source": [
    "# Garantindo que o Opendss esteja limpo"
   ]
  },
  {
   "cell_type": "code",
   "execution_count": 6,
   "metadata": {},
   "outputs": [
    {
     "name": "stdout",
     "output_type": "stream",
     "text": [
      "['bus_001' 'bus_002' 'bus_003' 'bus_004' 'bus_005' 'bus_006' 'bus_007'\n",
      " 'bus_008' 'bus_009' 'bus_010' 'bus_011' 'bus_012' 'bus_013' 'bus_014'\n",
      " 'bus_015' 'bus_016' 'bus_017' 'bus_018' 'bus_019' 'bus_020' 'bus_021'\n",
      " 'bus_022' 'bus_023' 'bus_024' 'bus_025' 'bus_026' 'bus_027' 'bus_028'\n",
      " 'bus_029' 'bus_030' 'bus_031' 'bus_032' 'bus_033' 'bus_034' 'bus_035'\n",
      " 'bus_036' 'bus_037' 'bus_038' 'bus_039' 'bus_040' 'bus_041']\n"
     ]
    }
   ],
   "source": [
    "dss.ClearAll()\n",
    "dss.Start(0)\n",
    "Text.Command = \"Clear\"\n",
    "Text.Command = f\"Compile {opendssmodel}\"\n",
    "\n",
    "bus_names = np.array(Circuit.AllBusNames)\n",
    "print(bus_names)"
   ]
  },
  {
   "cell_type": "markdown",
   "metadata": {},
   "source": [
    "# Fluxo de carga"
   ]
  },
  {
   "cell_type": "code",
   "execution_count": 13,
   "metadata": {},
   "outputs": [
    {
     "name": "stderr",
     "output_type": "stream",
     "text": [
      "C:\\Users\\joao9\\AppData\\Local\\Temp\\ipykernel_22144\\3777888131.py:8: FutureWarning: Non-integer 'periods' in pd.date_range, pd.timedelta_range, pd.period_range, and pd.interval_range are deprecated and will raise in a future version.\n",
      "  range_time = pd.date_range('2012-07-06 12:00:00', periods=horas*60/intervalo, freq=str(intervalo)+'T')\n",
      "C:\\Users\\joao9\\AppData\\Local\\Temp\\ipykernel_22144\\3777888131.py:8: FutureWarning: 'T' is deprecated and will be removed in a future version, please use 'min' instead.\n",
      "  range_time = pd.date_range('2012-07-06 12:00:00', periods=horas*60/intervalo, freq=str(intervalo)+'T')\n",
      "C:\\Users\\joao9\\AppData\\Local\\Temp\\ipykernel_22144\\3777888131.py:54: FutureWarning: The behavior of DataFrame concatenation with empty or all-NA entries is deprecated. In a future version, this will no longer exclude empty or all-NA columns when determining the result dtypes. To retain the old behavior, exclude the relevant entries before the concat operation.\n",
      "  power_df = pd.concat([power_df, power])\n"
     ]
    },
    {
     "ename": "KeyError",
     "evalue": "0",
     "output_type": "error",
     "traceback": [
      "\u001b[1;31m---------------------------------------------------------------------------\u001b[0m",
      "\u001b[1;31mKeyError\u001b[0m                                  Traceback (most recent call last)",
      "File \u001b[1;32mc:\\Users\\joao9\\miniconda3\\envs\\goes\\Lib\\site-packages\\pandas\\core\\indexes\\base.py:3805\u001b[0m, in \u001b[0;36mIndex.get_loc\u001b[1;34m(self, key)\u001b[0m\n\u001b[0;32m   3804\u001b[0m \u001b[38;5;28;01mtry\u001b[39;00m:\n\u001b[1;32m-> 3805\u001b[0m     \u001b[38;5;28;01mreturn\u001b[39;00m \u001b[38;5;28;43mself\u001b[39;49m\u001b[38;5;241;43m.\u001b[39;49m\u001b[43m_engine\u001b[49m\u001b[38;5;241;43m.\u001b[39;49m\u001b[43mget_loc\u001b[49m\u001b[43m(\u001b[49m\u001b[43mcasted_key\u001b[49m\u001b[43m)\u001b[49m\n\u001b[0;32m   3806\u001b[0m \u001b[38;5;28;01mexcept\u001b[39;00m \u001b[38;5;167;01mKeyError\u001b[39;00m \u001b[38;5;28;01mas\u001b[39;00m err:\n",
      "File \u001b[1;32mindex.pyx:167\u001b[0m, in \u001b[0;36mpandas._libs.index.IndexEngine.get_loc\u001b[1;34m()\u001b[0m\n",
      "File \u001b[1;32mindex.pyx:196\u001b[0m, in \u001b[0;36mpandas._libs.index.IndexEngine.get_loc\u001b[1;34m()\u001b[0m\n",
      "File \u001b[1;32mpandas\\\\_libs\\\\hashtable_class_helper.pxi:7081\u001b[0m, in \u001b[0;36mpandas._libs.hashtable.PyObjectHashTable.get_item\u001b[1;34m()\u001b[0m\n",
      "File \u001b[1;32mpandas\\\\_libs\\\\hashtable_class_helper.pxi:7089\u001b[0m, in \u001b[0;36mpandas._libs.hashtable.PyObjectHashTable.get_item\u001b[1;34m()\u001b[0m\n",
      "\u001b[1;31mKeyError\u001b[0m: 0",
      "\nThe above exception was the direct cause of the following exception:\n",
      "\u001b[1;31mKeyError\u001b[0m                                  Traceback (most recent call last)",
      "Cell \u001b[1;32mIn[13], line 59\u001b[0m\n\u001b[0;32m     54\u001b[0m power_df \u001b[38;5;241m=\u001b[39m pd\u001b[38;5;241m.\u001b[39mconcat([power_df, power])\n\u001b[0;32m     55\u001b[0m \u001b[38;5;66;03m# display(power_df)\u001b[39;00m\n\u001b[0;32m     56\u001b[0m \n\u001b[0;32m     57\u001b[0m \n\u001b[0;32m     58\u001b[0m \u001b[38;5;66;03m# Get distributed generation power\u001b[39;00m\n\u001b[1;32m---> 59\u001b[0m node_power \u001b[38;5;241m=\u001b[39m \u001b[43mget_dist_power\u001b[49m\u001b[43m(\u001b[49m\u001b[43mcolumn_node_power\u001b[49m\u001b[43m,\u001b[49m\u001b[43m \u001b[49m\u001b[43mtime\u001b[49m\u001b[43m,\u001b[49m\u001b[43m \u001b[49m\u001b[43mpower\u001b[49m\u001b[43m,\u001b[49m\u001b[43m \u001b[49m\u001b[43mloads\u001b[49m\u001b[43m,\u001b[49m\u001b[43m \u001b[49m\u001b[43mdistgen\u001b[49m\u001b[43m)\u001b[49m\n\u001b[0;32m     61\u001b[0m \u001b[38;5;66;03m# display(node_power)\u001b[39;00m\n\u001b[0;32m     62\u001b[0m \n\u001b[0;32m     63\u001b[0m \u001b[38;5;66;03m# Add Grid and Losses power to DataFrame\u001b[39;00m\n\u001b[0;32m     64\u001b[0m \u001b[38;5;66;03m# The last \"Power Balance\" of the system, to be used in the smoothing algorithm.\u001b[39;00m\n\u001b[0;32m     65\u001b[0m node_power \u001b[38;5;241m=\u001b[39m pd\u001b[38;5;241m.\u001b[39mconcat([node_power, pd\u001b[38;5;241m.\u001b[39mDataFrame([[time, \u001b[38;5;124m'\u001b[39m\u001b[38;5;124mgrid\u001b[39m\u001b[38;5;124m'\u001b[39m, \u001b[38;5;241m-\u001b[39mdss\u001b[38;5;241m.\u001b[39mCircuit\u001b[38;5;241m.\u001b[39mTotalPower()[\u001b[38;5;241m0\u001b[39m], \u001b[38;5;241m-\u001b[39mdss\u001b[38;5;241m.\u001b[39mCircuit\u001b[38;5;241m.\u001b[39mTotalPower()[\u001b[38;5;241m1\u001b[39m], \u001b[38;5;241m0\u001b[39m, \u001b[38;5;241m0\u001b[39m]], columns\u001b[38;5;241m=\u001b[39mcolumn_node_power)])\n",
      "File \u001b[1;32mc:\\Users\\joao9\\GitHub\\opendss\\src\\powerflow\\get_powers.py:7\u001b[0m, in \u001b[0;36mget_dist_power\u001b[1;34m(column, i, power_df, loads, distgen)\u001b[0m\n\u001b[0;32m      4\u001b[0m \u001b[38;5;28;01mdef\u001b[39;00m \u001b[38;5;21mget_dist_power\u001b[39m(column, i, power_df, loads, distgen):\n\u001b[0;32m      6\u001b[0m   bus_to_search \u001b[38;5;241m=\u001b[39m []\n\u001b[1;32m----> 7\u001b[0m   \u001b[38;5;28;01mfor\u001b[39;00m load \u001b[38;5;129;01min\u001b[39;00m loads:    bus_to_search\u001b[38;5;241m.\u001b[39mappend([load, loads[load][\u001b[38;5;124m'\u001b[39m\u001b[38;5;124mbus\u001b[39m\u001b[38;5;124m'\u001b[39m]\u001b[38;5;241m.\u001b[39msplit(\u001b[38;5;124m'\u001b[39m\u001b[38;5;124m.\u001b[39m\u001b[38;5;124m'\u001b[39m, \u001b[38;5;241m1\u001b[39m)[\u001b[38;5;241m0\u001b[39m], loads[load][\u001b[38;5;124m'\u001b[39m\u001b[38;5;124mpower\u001b[39m\u001b[38;5;124m'\u001b[39m]\u001b[38;5;241m*\u001b[39m\u001b[43mloads\u001b[49m\u001b[43m[\u001b[49m\u001b[43mload\u001b[49m\u001b[43m]\u001b[49m\u001b[43m[\u001b[49m\u001b[38;5;124;43m'\u001b[39;49m\u001b[38;5;124;43mprofile\u001b[39;49m\u001b[38;5;124;43m'\u001b[39;49m\u001b[43m]\u001b[49m\u001b[43m[\u001b[49m\u001b[38;5;241;43m0\u001b[39;49m\u001b[43m]\u001b[49m[i], loads[load][\u001b[38;5;124m'\u001b[39m\u001b[38;5;124mpower\u001b[39m\u001b[38;5;124m'\u001b[39m]\u001b[38;5;241m*\u001b[39mloads[load][\u001b[38;5;124m'\u001b[39m\u001b[38;5;124mprofile\u001b[39m\u001b[38;5;124m'\u001b[39m][\u001b[38;5;241m1\u001b[39m][i]])\n\u001b[0;32m      8\u001b[0m   \u001b[38;5;28;01mfor\u001b[39;00m gen \u001b[38;5;129;01min\u001b[39;00m distgen:   bus_to_search\u001b[38;5;241m.\u001b[39mappend([gen,  distgen[gen][\u001b[38;5;124m'\u001b[39m\u001b[38;5;124mbus\u001b[39m\u001b[38;5;124m'\u001b[39m]\u001b[38;5;241m.\u001b[39msplit(\u001b[38;5;124m'\u001b[39m\u001b[38;5;124m.\u001b[39m\u001b[38;5;124m'\u001b[39m, \u001b[38;5;241m1\u001b[39m)[\u001b[38;5;241m0\u001b[39m], distgen[gen][\u001b[38;5;124m'\u001b[39m\u001b[38;5;124mpower\u001b[39m\u001b[38;5;124m'\u001b[39m]\u001b[38;5;241m*\u001b[39mdistgen[gen][\u001b[38;5;124m'\u001b[39m\u001b[38;5;124mprofile\u001b[39m\u001b[38;5;124m'\u001b[39m][\u001b[38;5;241m0\u001b[39m][i], distgen[gen][\u001b[38;5;124m'\u001b[39m\u001b[38;5;124mpower\u001b[39m\u001b[38;5;124m'\u001b[39m]\u001b[38;5;241m*\u001b[39mdistgen[gen][\u001b[38;5;124m'\u001b[39m\u001b[38;5;124mprofile\u001b[39m\u001b[38;5;124m'\u001b[39m][\u001b[38;5;241m1\u001b[39m][i]])\n\u001b[0;32m      9\u001b[0m   \u001b[38;5;66;03m# for bess in distbess: bus_to_search.append([bess, distbess[bess]['bus'].split('.', 1)[0], distbess[bess]['power']*distbess[bess]['profile'][0][i], distbess[bess]['power']*distbess[bess]['profile'][1][i]])\u001b[39;00m\n\u001b[0;32m     10\u001b[0m \n\u001b[0;32m     11\u001b[0m   \u001b[38;5;66;03m# print(bus_to_search)\u001b[39;00m\n",
      "File \u001b[1;32mc:\\Users\\joao9\\miniconda3\\envs\\goes\\Lib\\site-packages\\pandas\\core\\frame.py:4102\u001b[0m, in \u001b[0;36mDataFrame.__getitem__\u001b[1;34m(self, key)\u001b[0m\n\u001b[0;32m   4100\u001b[0m \u001b[38;5;28;01mif\u001b[39;00m \u001b[38;5;28mself\u001b[39m\u001b[38;5;241m.\u001b[39mcolumns\u001b[38;5;241m.\u001b[39mnlevels \u001b[38;5;241m>\u001b[39m \u001b[38;5;241m1\u001b[39m:\n\u001b[0;32m   4101\u001b[0m     \u001b[38;5;28;01mreturn\u001b[39;00m \u001b[38;5;28mself\u001b[39m\u001b[38;5;241m.\u001b[39m_getitem_multilevel(key)\n\u001b[1;32m-> 4102\u001b[0m indexer \u001b[38;5;241m=\u001b[39m \u001b[38;5;28;43mself\u001b[39;49m\u001b[38;5;241;43m.\u001b[39;49m\u001b[43mcolumns\u001b[49m\u001b[38;5;241;43m.\u001b[39;49m\u001b[43mget_loc\u001b[49m\u001b[43m(\u001b[49m\u001b[43mkey\u001b[49m\u001b[43m)\u001b[49m\n\u001b[0;32m   4103\u001b[0m \u001b[38;5;28;01mif\u001b[39;00m is_integer(indexer):\n\u001b[0;32m   4104\u001b[0m     indexer \u001b[38;5;241m=\u001b[39m [indexer]\n",
      "File \u001b[1;32mc:\\Users\\joao9\\miniconda3\\envs\\goes\\Lib\\site-packages\\pandas\\core\\indexes\\base.py:3812\u001b[0m, in \u001b[0;36mIndex.get_loc\u001b[1;34m(self, key)\u001b[0m\n\u001b[0;32m   3807\u001b[0m     \u001b[38;5;28;01mif\u001b[39;00m \u001b[38;5;28misinstance\u001b[39m(casted_key, \u001b[38;5;28mslice\u001b[39m) \u001b[38;5;129;01mor\u001b[39;00m (\n\u001b[0;32m   3808\u001b[0m         \u001b[38;5;28misinstance\u001b[39m(casted_key, abc\u001b[38;5;241m.\u001b[39mIterable)\n\u001b[0;32m   3809\u001b[0m         \u001b[38;5;129;01mand\u001b[39;00m \u001b[38;5;28many\u001b[39m(\u001b[38;5;28misinstance\u001b[39m(x, \u001b[38;5;28mslice\u001b[39m) \u001b[38;5;28;01mfor\u001b[39;00m x \u001b[38;5;129;01min\u001b[39;00m casted_key)\n\u001b[0;32m   3810\u001b[0m     ):\n\u001b[0;32m   3811\u001b[0m         \u001b[38;5;28;01mraise\u001b[39;00m InvalidIndexError(key)\n\u001b[1;32m-> 3812\u001b[0m     \u001b[38;5;28;01mraise\u001b[39;00m \u001b[38;5;167;01mKeyError\u001b[39;00m(key) \u001b[38;5;28;01mfrom\u001b[39;00m \u001b[38;5;21;01merr\u001b[39;00m\n\u001b[0;32m   3813\u001b[0m \u001b[38;5;28;01mexcept\u001b[39;00m \u001b[38;5;167;01mTypeError\u001b[39;00m:\n\u001b[0;32m   3814\u001b[0m     \u001b[38;5;66;03m# If we have a listlike key, _check_indexing_error will raise\u001b[39;00m\n\u001b[0;32m   3815\u001b[0m     \u001b[38;5;66;03m#  InvalidIndexError. Otherwise we fall through and re-raise\u001b[39;00m\n\u001b[0;32m   3816\u001b[0m     \u001b[38;5;66;03m#  the TypeError.\u001b[39;00m\n\u001b[0;32m   3817\u001b[0m     \u001b[38;5;28mself\u001b[39m\u001b[38;5;241m.\u001b[39m_check_indexing_error(key)\n",
      "\u001b[1;31mKeyError\u001b[0m: 0"
     ]
    }
   ],
   "source": [
    "bus_names = bus_names.reshape(bus_names.shape[0], 1)\n",
    "column_power = ['time', 'line', 'bus_1', 'bus_2', 'P', 'Q']\n",
    "power_df = pd.DataFrame(columns = column_power)\n",
    "\n",
    "column_node_power = ['time', 'name', 'P', 'Q', 'P_profile', 'Q_profile']\n",
    "node_power_df1 = pd.DataFrame(columns=column_node_power)\n",
    "\n",
    "range_time = pd.date_range('2012-07-06 12:00:00', periods=horas*60/intervalo, freq=str(intervalo)+'T')\n",
    "for time in range_time:\n",
    "  new_command = ''\n",
    "  for load in loads:\n",
    "    new_command = new_command + '\\n' + add_load(time, load, loads[load]['bus'], loads[load]['phases'], \n",
    "    loads[load]['voltage'], loads[load]['power'], loads[load]['profile'])\n",
    "\n",
    "  for gen in distgen:\n",
    "    new_command = new_command + '\\n' + add_gd(time, gen, distgen[gen]['bus'], distgen[gen]['phases'], \n",
    "    distgen[gen]['conn'], distgen[gen]['voltage'], distgen[gen]['power'], distgen[gen]['profile'])\n",
    "\n",
    "\n",
    "\n",
    "  dss.ClearAll()\n",
    "  dss.Start(0)\n",
    "  dss(\"Clear\")\n",
    "  dss(f\"Compile {opendssmodel}\")\n",
    "  dss(new_command)\n",
    "  dss(\"Set VoltageBases = [.22]\")\n",
    "  dss(\"CalcVoltageBases\")\n",
    "  dss(\"Set maxiterations = 500\")\n",
    "  dss('set mode = snap')\n",
    "  dss(\"Solve\")\n",
    "\n",
    "  # Power Flow to DataFrame\n",
    "  power = np.array(Circuit.PDElements.AllPowers)\n",
    "  # print(power)\n",
    "  power = power.reshape((-1, 6))\n",
    "  # print(power)\n",
    "  power = pd.DataFrame(power, columns=['P_a', 'Q_a', 'P_b', 'Q_b', 'P_c', 'Q_c'])\n",
    "  # display(power)\n",
    "\n",
    "\n",
    "  # Create new column that contains sum of specific columns\n",
    "  power['P'] = power[['P_a', 'P_b', 'P_c']].sum(axis=1)\n",
    "  power['Q'] = power[['Q_a', 'Q_b', 'Q_c']].sum(axis=1)\n",
    "\n",
    "  # Get the index for each row of the Data Frame\n",
    "  power_flow_index = []\n",
    "  for line in Circuit.Lines:\n",
    "      power_flow_index.append([time, line.Name, line.Bus1, line.Bus2])\n",
    "      power_flow_index.append([time, line.Name, line.Bus1, line.Bus2])\n",
    "  # print(power_flow_index)\n",
    "\n",
    "  power[['time', 'line', 'bus_1', 'bus_2']] = power_flow_index\n",
    "  # display(power)\n",
    "  power_df = pd.concat([power_df, power])\n",
    "  # display(power_df)\n",
    "\n",
    "\n",
    "  # Get distributed generation power\n",
    "  node_power = get_dist_power(column_node_power, time, power, loads, distgen)\n",
    "\n",
    "  # display(node_power)\n",
    "\n",
    "  # Add Grid and Losses power to DataFrame\n",
    "  # The last \"Power Balance\" of the system, to be used in the smoothing algorithm.\n",
    "  node_power = pd.concat([node_power, pd.DataFrame([[time, 'grid', -dss.Circuit.TotalPower()[0], -dss.Circuit.TotalPower()[1], 0, 0]], columns=column_node_power)])\n",
    "  node_power = pd.concat([node_power, pd.DataFrame([[time, 'losses', dss.Circuit.Losses()[0]/1000, dss.Circuit.Losses()[1]/1000, 0, 0]], columns=column_node_power)])\n",
    "\n",
    "\n",
    "  node_power_df1 = pd.concat([node_power_df1, node_power])\n"
   ]
  },
  {
   "cell_type": "markdown",
   "metadata": {},
   "source": [
    "# Extraindo os dados para o Plot"
   ]
  },
  {
   "cell_type": "code",
   "execution_count": null,
   "metadata": {},
   "outputs": [],
   "source": [
    "# carga_kw1_SB = []\n",
    "# circuit_kw1_SB =[]\n",
    "# pv6_kw1_SB =[]\n",
    "# bateria_kw1_SB = []\n",
    "# losses_kw1_SB = []\n",
    "# for timestep in range(loop-1):\n",
    "#     # Filtrar as linhas onde `timestep` é o atual e `name` é `loadbus13` ou `loadbus02`\n",
    "#     filtered_load = node_power_df1[(node_power_df1['timestep'] == timestep) & (node_power_df1['name'].isin(['loadbus021']))]\n",
    "#     filtered_grid = node_power_df1[(node_power_df1['timestep'] == timestep) & (node_power_df1['name'].isin(['grid']))]\n",
    "#     filtered_pv = node_power_df1[(node_power_df1['timestep'] == timestep) & (node_power_df1['name'].isin(['pvbus022']))]\n",
    "#     filtered_bes = node_power_df1[(node_power_df1['timestep'] == timestep) & (node_power_df1['name'].isin(['bessbus023']))]\n",
    "#     filtered_losses = node_power_df1[(node_power_df1['timestep'] == timestep) & (node_power_df1['name'].isin(['losses']))]\n",
    "\n",
    "#     # Acessar a coluna `P` dessas linhas\n",
    "#     p_values = sum(filtered_load['P'].values)\n",
    "#     carga_kw1_SB.append(p_values)\n",
    "\n",
    "#     grid_values = filtered_grid['P'].values[0]\n",
    "#     circuit_kw1_SB.append(grid_values)\n",
    "\n",
    "#     pv_values = filtered_pv['P'].values[0]\n",
    "#     pv6_kw1_SB.append(pv_values)\n",
    "\n",
    "#     # bess_values = filtered_bes['P'].values[0]\n",
    "#     # bateria_kw1.append(bess_values)\n",
    "\n",
    "#     losses_values = filtered_losses['P'].values[0]\n",
    "#     losses_kw1_SB.append(losses_values)\n",
    "\n",
    "\n",
    "\n",
    "# carga_kw_SB = np.array(carga_kw1_SB)\n",
    "# bateria_kw = np.array(bateria_kw1_SB)\n",
    "# pv6_kw_SB = -np.array(pv6_kw1_SB)\n",
    "# circuit_kw_SB = -np.array(circuit_kw1_SB)\n",
    "# losses_kw = np.array(losses_kw1_SB)\n",
    "\n",
    "# Dmed_SB = np.mean(circuit_kw_SB)\n",
    "# Dmax_SB = np.max(circuit_kw_SB)\n",
    "# print('Demanda Média',Dmed_SB)\n",
    "# print('Demanda Máxima',Dmax_SB)"
   ]
  }
 ],
 "metadata": {
  "kernelspec": {
   "display_name": "goes",
   "language": "python",
   "name": "python3"
  },
  "language_info": {
   "codemirror_mode": {
    "name": "ipython",
    "version": 3
   },
   "file_extension": ".py",
   "mimetype": "text/x-python",
   "name": "python",
   "nbconvert_exporter": "python",
   "pygments_lexer": "ipython3",
   "version": "3.12.5"
  }
 },
 "nbformat": 4,
 "nbformat_minor": 2
}
