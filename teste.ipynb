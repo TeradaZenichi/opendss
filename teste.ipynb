{
 "cells": [
  {
   "cell_type": "markdown",
   "metadata": {},
   "source": [
    "# Importando Bibliotecas e módulos necessários"
   ]
  },
  {
   "cell_type": "code",
   "execution_count": 1,
   "metadata": {},
   "outputs": [],
   "source": [
    "import os\n",
    "import sys\n",
    "sys.path.append(os.path.abspath(os.path.join(os.getcwd(), 'src')))\n",
    "import pandas as pd\n",
    "import numpy as np\n",
    "import matplotlib.pyplot as plt\n",
    "import opendssdirect as dss\n",
    "from powerflow.bus import bus_dictionary\n",
    "from powerflow.batery import distbess_dictionary\n",
    "from powerflow.generators import distgen_dictionary,add_gd\n",
    "from powerflow.get_powers import get_dist_power_luiza,get_bus_power\n",
    "from powerflow.load import add_LoadToBus,add_load\n",
    "from powerflow.text_comands import set_frequency,new_circuit,line_geometry,add_line,add_infos\n"
   ]
  },
  {
   "cell_type": "markdown",
   "metadata": {},
   "source": [
    "# Diretórios dos dados\n"
   ]
  },
  {
   "cell_type": "code",
   "execution_count": 2,
   "metadata": {},
   "outputs": [],
   "source": [
    "# Diretório de datasets\n",
    "dir_datasets = 'C:\\\\Users\\\\joao9\\\\GitHub\\\\opendss\\\\datasets\\\\'\n",
    "\n",
    "#Diretório de arquivos .dss\n",
    "dir_dss = dir_datasets + 'arquivos_dss\\\\'\n",
    "\n",
    "# Diretório de arquivos de geração PV\n",
    "dir_pv = 'datasets\\\\generation_profiles\\\\'\n",
    "\n",
    "# Diretório de arquivos de cargas\n",
    "dir_cargas = 'datasets\\\\load_profiles\\\\'\n"
   ]
  },
  {
   "cell_type": "markdown",
   "metadata": {},
   "source": [
    "# Definições iniciais do circuito"
   ]
  },
  {
   "cell_type": "code",
   "execution_count": 3,
   "metadata": {},
   "outputs": [],
   "source": [
    "\n",
    "Text = dss.Text\n",
    "Circuit = dss.Circuit\n",
    "Solution = dss.Solution\n",
    "\n",
    "# Definições da MatPlotLib\n",
    "plt.close('all')\n",
    "plt.style.use('ggplot')\n",
    "plt.rcParams[\"figure.figsize\"] = (8,4)\n",
    "plt.rcParams[\"figure.dpi\"] = 100\n",
    "plt.rcParams['font.family'] = 'DejaVu Sans'\n",
    "plt.rcParams['font.sans-serif'] = ['cmr10']\n",
    "plt.rcParams['axes.unicode_minus'] = False\n",
    "\n",
    "#Potências máximas\n",
    "PowerLoad=4\n",
    "PowerPV=6 #Potência total dos módulos\n",
    "\n",
    "# Definições do BESS\n",
    "Pmin=0.320\n",
    "BESS_P_MAX = 5\n",
    "BESS_C_MAX = 12\n",
    "SOC_MIN = 0.1 # 10%\n",
    "SOC_MAX = 0.9 # 90%\n",
    "BESS_E_MIN = BESS_C_MAX * SOC_MIN\n",
    "BESS_E_MAX = BESS_C_MAX * SOC_MAX\n",
    "\n",
    "# Definições do intervalo de simulação\n",
    "# nconsumidores = len(os.listdir(dir_cargas))\n",
    "nconsumidores = 3\n",
    "nbarramentos = 4\n",
    "horas = 24 #hours\n",
    "intervalo = 30 #min"
   ]
  },
  {
   "cell_type": "markdown",
   "metadata": {},
   "source": [
    "# Criação do modelo base do arquivo.dss"
   ]
  },
  {
   "cell_type": "code",
   "execution_count": 4,
   "metadata": {},
   "outputs": [],
   "source": [
    "with open(dir_dss + 'ModelagemTeste.dss', 'w') as file:\n",
    "    file.write(set_frequency(60) + '\\n')\n",
    "    file.write(new_circuit('ModelagemTeste', str(1).zfill(3), 0.22) + '\\n')\n",
    "    file.write(line_geometry(0.52,0.63,'km',3.338,3,3,[-120.00,0.00,60.00],[1000.00,1000.00,1000.00])+ '\\n')\n",
    "    for i in range(1,nbarramentos,1):\n",
    "        file.write(add_line(i,str(i).zfill(3),str(i+1).zfill(3),25,'m',3)+ '\\n')\n",
    "    \n",
    "    file.write(add_infos())\n",
    "\n",
    "opendssmodel = dir_dss + 'ModelagemTeste.dss'"
   ]
  },
  {
   "cell_type": "markdown",
   "metadata": {},
   "source": [
    "# Criação dos dicionários que irão armazenar as inforamções das cargas, geraçãoPV e bateria"
   ]
  },
  {
   "cell_type": "code",
   "execution_count": 5,
   "metadata": {},
   "outputs": [
    {
     "data": {
      "text/plain": [
       "{'bus_001': {'MAC003982': {'phases': 2,\n",
       "   'voltage': 0.22,\n",
       "   'power': 1000,\n",
       "   'profile':                           datetime  Ppower    Qpower\n",
       "   0      2012-07-06 12:00:00.0000000   0.194  0.000194\n",
       "   1      2012-07-06 12:30:00.0000000   0.159  0.000159\n",
       "   2      2012-07-06 13:00:00.0000000   0.161  0.000161\n",
       "   3      2012-07-06 13:30:00.0000000   0.188  0.000188\n",
       "   4      2012-07-06 14:00:00.0000000   0.144  0.000144\n",
       "   ...                            ...     ...       ...\n",
       "   28818  2014-02-27 22:30:00.0000000   0.123  0.000123\n",
       "   28819  2014-02-27 23:00:00.0000000   0.133  0.000133\n",
       "   28820  2014-02-27 23:30:00.0000000   0.146  0.000146\n",
       "   28821  2014-02-28 00:00:00.0000000   0.193  0.000193\n",
       "   28822  2014-02-28 00:00:00.0000000   0.193  0.000193\n",
       "   \n",
       "   [28823 rows x 3 columns]}},\n",
       " 'bus_002': {'MAC003983': {'phases': 2,\n",
       "   'voltage': 0.22,\n",
       "   'power': 1000,\n",
       "   'profile':                           datetime  Ppower    Qpower\n",
       "   0      2012-07-06 12:00:00.0000000   0.098  0.000098\n",
       "   1      2012-07-06 12:30:00.0000000   0.086  0.000086\n",
       "   2      2012-07-06 13:00:00.0000000   0.054  0.000054\n",
       "   3      2012-07-06 13:30:00.0000000   0.044  0.000044\n",
       "   4      2012-07-06 14:00:00.0000000   0.017  0.000017\n",
       "   ...                            ...     ...       ...\n",
       "   28885  2014-02-27 22:30:00.0000000   0.352  0.000352\n",
       "   28886  2014-02-27 23:00:00.0000000   0.465  0.000465\n",
       "   28887  2014-02-27 23:30:00.0000000   0.403  0.000403\n",
       "   28888  2014-02-28 00:00:00.0000000   0.369  0.000369\n",
       "   28889  2014-02-28 00:00:00.0000000   0.369  0.000369\n",
       "   \n",
       "   [28890 rows x 3 columns]}},\n",
       " 'bus_003': {'MAC003996': {'phases': 2,\n",
       "   'voltage': 0.22,\n",
       "   'power': 1000,\n",
       "   'profile':                           datetime  Ppower    Qpower\n",
       "   0      2012-07-06 12:00:00.0000000   0.033  0.000033\n",
       "   1      2012-07-06 12:30:00.0000000   0.033  0.000033\n",
       "   2      2012-07-06 13:00:00.0000000   0.030  0.000030\n",
       "   3      2012-07-06 13:30:00.0000000   0.035  0.000035\n",
       "   4      2012-07-06 14:00:00.0000000   0.029  0.000029\n",
       "   ...                            ...     ...       ...\n",
       "   28886  2014-02-27 22:30:00.0000000   0.016  0.000016\n",
       "   28887  2014-02-27 23:00:00.0000000   0.039  0.000039\n",
       "   28888  2014-02-27 23:30:00.0000000   0.051  0.000051\n",
       "   28889  2014-02-28 00:00:00.0000000   0.042  0.000042\n",
       "   28890  2014-02-28 00:00:00.0000000   0.042  0.000042\n",
       "   \n",
       "   [28891 rows x 3 columns]}},\n",
       " 'bus_004': {}}"
      ]
     },
     "metadata": {},
     "output_type": "display_data"
    }
   ],
   "source": [
    "profiles = os.listdir(dir_cargas)\n",
    "\n",
    "buses = bus_dictionary(nbarramentos)\n",
    "for i in range(3):\n",
    "    bus = 'bus_'+str(i+1).zfill(3)\n",
    "    name = profiles[i].replace('.csv','')\n",
    "    add_LoadToBus(buses,bus,name,2,0.22,1000,dir_cargas+profiles[i])\n",
    "\n",
    "display(buses)"
   ]
  },
  {
   "cell_type": "markdown",
   "metadata": {},
   "source": [
    "# Garantindo que o Opendss esteja limpo"
   ]
  },
  {
   "cell_type": "code",
   "execution_count": 6,
   "metadata": {},
   "outputs": [],
   "source": [
    "dss.Basic.ClearAll()\n",
    "dss.Basic.Start(0)\n",
    "Text.Command(\"Clear\")\n",
    "Text.Command(f\"Compile {opendssmodel}\")\n"
   ]
  },
  {
   "cell_type": "markdown",
   "metadata": {},
   "source": [
    "# Fluxo de carga"
   ]
  },
  {
   "cell_type": "code",
   "execution_count": null,
   "metadata": {},
   "outputs": [],
   "source": [
    "column_power = ['timestep', 'line', 'bus_1', 'bus_2', 'P', 'Q']\n",
    "power_df = pd.DataFrame(columns = column_power)\n",
    "\n",
    "#Descomentar quando for utilizar a função da Luíza\n",
    "\n",
    "# column_node_power = ['timestep', 'name', 'P', 'Q', 'P_profile', 'Q_profile']\n",
    "# node_power_df1 = pd.DataFrame(columns=column_node_power)\n",
    "\n",
    "#Descomentar quando for utilizar a função do João\n",
    "column_node_power = ['timestep', 'name', 'P', 'Q', 'V_a_b_c']\n",
    "node_power_df1 = pd.DataFrame(columns=column_node_power)\n",
    "\n",
    "\n",
    "range_time = pd.date_range('2012-07-06 12:00:00', periods=horas*60/intervalo, freq=str(intervalo)+'T')\n",
    "for time in range_time:\n",
    "\n",
    "  dss.Basic.ClearAll()\n",
    "  dss.Basic.Start(0)\n",
    "  Text.Command(\"Clear\")\n",
    "  Text.Command(f\"Compile {opendssmodel}\")\n",
    "\n",
    "  #Acessa os barramentos do dicionário\n",
    "  for bus in buses.keys():\n",
    "    loads = buses[bus].keys()\n",
    "    for load in loads:\n",
    "      carga = buses[bus][load]\n",
    "      new_command = add_load(time,load,bus, carga['phases'],carga['voltage'], carga['power'], carga['profile'])\n",
    "      Text.Command(new_command)\n",
    " \n",
    "  Text.Command(\"Set VoltageBases = [.22]\")\n",
    "  Text.Command(\"CalcVoltageBases\")\n",
    "  Text.Command(\"Set maxiterations = 500\")\n",
    "  Text.Command('set mode = snap')\n",
    "  Text.Command(\"Solve\")\n",
    "\n",
    "  # Power Flow to DataFrame\n",
    "  power = np.array(dss.PDElements.AllPowers())\n",
    "  # print(power)\n",
    "  power = power.reshape((-1, 6))\n",
    "  # print(power)\n",
    "  power = pd.DataFrame(power, columns=['P_a', 'Q_a', 'P_b', 'Q_b', 'P_c', 'Q_c'])\n",
    "  \n",
    "\n",
    "  # Create new column that contains sum of specific columns\n",
    "  power['P'] = power[['P_a', 'P_b', 'P_c']].sum(axis=1)\n",
    "  power['Q'] = power[['Q_a', 'Q_b', 'Q_c']].sum(axis=1)\n",
    "  # display(power)\n",
    "  \n",
    "  # Get the index for each row of the Data Frame\n",
    "  power_flow_index = []\n",
    "  for line in dss.Lines:\n",
    "      power_flow_index.append([time, line.Name(), line.Bus1(), line.Bus2()])\n",
    "      power_flow_index.append([time, line.Name(), line.Bus1(), line.Bus2()])\n",
    "  # print(power_flow_index)\n",
    "\n",
    "  power[['timestep', 'line', 'bus_1', 'bus_2']] = power_flow_index\n",
    "  # display(power)\n",
    "  power_df = pd.concat([power_df, power])\n",
    "  # display(power_df)\n",
    "\n",
    "\n",
    "  # Get distributed generation power\n",
    "  # node_power = get_dist_power_luiza(column_node_power,time,power,buses) # Função Luíza\n",
    "  node_power = get_bus_power(column_node_power,time,power,buses,dss) # Função João\n",
    "  \n",
    "\n",
    "\n",
    "  # Add Grid and Losses power to DataFrame\n",
    "  # The last \"Power Balance\" of the system, to be used in the smoothing algorithm.\n",
    "  node_power = pd.concat([node_power, pd.DataFrame([[time, 'grid', -dss.Circuit.TotalPower()[0], -dss.Circuit.TotalPower()[1], 0]], columns=column_node_power)])\n",
    "  node_power = pd.concat([node_power, pd.DataFrame([[time, 'losses', dss.Circuit.Losses()[0], dss.Circuit.Losses()[1], 0]], columns=column_node_power)])\n",
    "\n",
    "\n",
    "  node_power_df1 = pd.concat([node_power_df1, node_power])\n",
    "\n",
    "  "
   ]
  },
  {
   "cell_type": "code",
   "execution_count": 8,
   "metadata": {},
   "outputs": [
    {
     "name": "stderr",
     "output_type": "stream",
     "text": [
      "C:\\Users\\joao9\\AppData\\Local\\Temp\\ipykernel_23068\\3785727307.py:6: FutureWarning: Non-integer 'periods' in pd.date_range, pd.timedelta_range, pd.period_range, and pd.interval_range are deprecated and will raise in a future version.\n",
      "  range_time = pd.date_range('2012-07-06 12:00:00', periods=horas*60/intervalo, freq=str(intervalo)+'T')\n",
      "C:\\Users\\joao9\\AppData\\Local\\Temp\\ipykernel_23068\\3785727307.py:6: FutureWarning: 'T' is deprecated and will be removed in a future version, please use 'min' instead.\n",
      "  range_time = pd.date_range('2012-07-06 12:00:00', periods=horas*60/intervalo, freq=str(intervalo)+'T')\n"
     ]
    }
   ],
   "source": [
    "carga_kw1_SB = []\n",
    "circuit_kw1_SB =[]\n",
    "pv6_kw1_SB =[]\n",
    "bateria_kw1_SB = []\n",
    "losses_kw1_SB = []\n",
    "range_time = pd.date_range('2012-07-06 12:00:00', periods=horas*60/intervalo, freq=str(intervalo)+'T')\n",
    "for timestep in range_time:\n",
    "\n",
    "    #Filtering power of all buses in specific timestep\n",
    "    p_values = 0\n",
    "    for bus in buses.keys():\n",
    "        filtered_power = node_power_df1[(node_power_df1['timestep'] == timestep) & (node_power_df1['name'].isin([bus]))]\n",
    "        p_values += filtered_power['P'].values[0]\n",
    "    carga_kw1_SB.append(p_values)\n",
    "    \n",
    "    # Power demand deliverid to circuit\n",
    "    filtered_grid = node_power_df1[(node_power_df1['timestep'] == timestep) & (node_power_df1['name'].isin(['grid']))]\n",
    "    grid_values = filtered_grid['P'].values[0]\n",
    "    circuit_kw1_SB.append(grid_values)\n",
    "\n",
    "    #Power Losses in the circuit\n",
    "    filtered_losses = node_power_df1[(node_power_df1['timestep'] == timestep) & (node_power_df1['name'].isin(['losses']))]\n",
    "    losses_values = filtered_losses['P'].values[0]\n",
    "    losses_kw1_SB.append(losses_values)\n",
    "\n",
    "carga_kw_SB = np.array(carga_kw1_SB)\n",
    "circuit_kw_SB = -np.array(circuit_kw1_SB)\n",
    "losses_kw = np.array(losses_kw1_SB)"
   ]
  },
  {
   "cell_type": "code",
   "execution_count": 9,
   "metadata": {},
   "outputs": [
    {
     "name": "stderr",
     "output_type": "stream",
     "text": [
      "C:\\Users\\joao9\\AppData\\Local\\Temp\\ipykernel_23068\\4256688563.py:1: FutureWarning: Non-integer 'periods' in pd.date_range, pd.timedelta_range, pd.period_range, and pd.interval_range are deprecated and will raise in a future version.\n",
      "  filtered_time = pd.date_range('12:00:00', periods=horas*60/intervalo, freq=str(intervalo)+'T')\n",
      "C:\\Users\\joao9\\AppData\\Local\\Temp\\ipykernel_23068\\4256688563.py:1: FutureWarning: 'T' is deprecated and will be removed in a future version, please use 'min' instead.\n",
      "  filtered_time = pd.date_range('12:00:00', periods=horas*60/intervalo, freq=str(intervalo)+'T')\n"
     ]
    },
    {
     "data": {
      "text/plain": [
       "<matplotlib.legend.Legend at 0x1e8b117c230>"
      ]
     },
     "execution_count": 9,
     "metadata": {},
     "output_type": "execute_result"
    },
    {
     "data": {
      "image/png": "[encoded data removed]",
      "text/plain": [
       "<Figure size 800x400 with 1 Axes>"
      ]
     },
     "metadata": {},
     "output_type": "display_data"
    }
   ],
   "source": [
    "filtered_time = pd.date_range('12:00:00', periods=horas*60/intervalo, freq=str(intervalo)+'T')\n",
    "\n",
    "plt.plot(filtered_time, -circuit_kw_SB,label='Demand')\n",
    "plt.plot(filtered_time, carga_kw_SB,label='Load')\n",
    "# plt.plot(filtered_time, losses_kw,label='Losses')\n",
    "plt.title('Power Balance')\n",
    "plt.xlabel('Hour(h)')\n",
    "plt.ylabel('Power (W)')\n",
    "plt.legend(loc=1)"
   ]
  }
 ],
 "metadata": {
  "kernelspec": {
   "display_name": "goes",
   "language": "python",
   "name": "python3"
  },
  "language_info": {
   "codemirror_mode": {
    "name": "ipython",
    "version": 3
   },
   "file_extension": ".py",
   "mimetype": "text/x-python",
   "name": "python",
   "nbconvert_exporter": "python",
   "pygments_lexer": "ipython3",
   "version": "3.12.5"
  }
 },
 "nbformat": 4,
 "nbformat_minor": 2
}
